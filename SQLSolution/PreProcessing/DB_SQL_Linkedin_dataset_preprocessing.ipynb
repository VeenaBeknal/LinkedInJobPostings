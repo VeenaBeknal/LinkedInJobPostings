{
 "cells": [
  {
   "cell_type": "code",
   "execution_count": 147,
   "id": "8fafb874",
   "metadata": {},
   "outputs": [],
   "source": [
    "import pandas as pd\n",
    "import numpy as np\n",
    "import os\n",
    "import sys\n",
    "from pathlib import Path\n",
    "import glob\n",
    "import string\n",
    "import unicodedata\n",
    "import re\n"
   ]
  },
  {
   "cell_type": "code",
   "execution_count": 148,
   "id": "1472ded6",
   "metadata": {},
   "outputs": [
    {
     "data": {
      "text/plain": [
       "'c:\\\\Users\\\\veena\\\\anaconda3'"
      ]
     },
     "execution_count": 148,
     "metadata": {},
     "output_type": "execute_result"
    }
   ],
   "source": [
    "os.path.dirname(sys.executable)"
   ]
  },
  {
   "cell_type": "markdown",
   "id": "53511d0a",
   "metadata": {},
   "source": [
    "### Reading in the datasets"
   ]
  },
  {
   "cell_type": "code",
   "execution_count": 149,
   "id": "008e92d7",
   "metadata": {},
   "outputs": [],
   "source": [
    "\n",
    "emp_count = pd.read_csv(\"D:\\\\Veena\\\\SJSU-Classes\\\\Sem1\\\\DatabaseSystemsforAnalytics-225-24\\\\Lab1\\\\Input files\\\\employee_counts.csv\")\n",
    "comp_spec = pd.read_csv(\"D:\\\\Veena\\\\SJSU-Classes\\\\Sem1\\\\DatabaseSystemsforAnalytics-225-24\\\\Lab1\\\\Input files\\\\company_specialities.csv\")\n",
    "comp_ind = pd.read_csv(\"D:\\\\Veena\\\\SJSU-Classes\\\\Sem1\\\\DatabaseSystemsforAnalytics-225-24\\\\Lab1\\\\Input files\\\\company_industries.csv\")\n",
    "comp = pd.read_csv(\"D:\\\\Veena\\\\SJSU-Classes\\\\Sem1\\\\DatabaseSystemsforAnalytics-225-24\\\\Lab1\\\\Input files\\\\companies.csv\")\n",
    "job_skill = pd.read_csv(\"D:\\\\Veena\\\\SJSU-Classes\\\\Sem1\\\\DatabaseSystemsforAnalytics-225-24\\\\Lab1\\\\Input files\\\\job_skills.csv\")\n",
    "job_ind = pd.read_csv(\"D:\\\\Veena\\\\SJSU-Classes\\\\Sem1\\\\DatabaseSystemsforAnalytics-225-24\\\\Lab1\\\\Input files\\\\job_industries.csv\")\n",
    "benefits = pd.read_csv(\"D:\\\\Veena\\\\SJSU-Classes\\\\Sem1\\\\DatabaseSystemsforAnalytics-225-24\\\\Lab1\\\\Input files\\\\benefits.csv\")\n",
    "job_post = pd.read_csv(\"D:\\\\Veena\\\\SJSU-Classes\\\\Sem1\\\\DatabaseSystemsforAnalytics-225-24\\\\Lab1\\\\Input files\\\\job_postings.csv\")\n"
   ]
  },
  {
   "cell_type": "markdown",
   "id": "e2b2ce96",
   "metadata": {},
   "source": [
    "### Function for cleaning the description column by removing non-ASCII values, new line characters and custom regex to remove non alphanumeric ASCII values"
   ]
  },
  {
   "cell_type": "code",
   "execution_count": 150,
   "id": "5524398a",
   "metadata": {},
   "outputs": [],
   "source": [
    "def clean_non_ascii_new_line_string (string): \n",
    "    normalized_str = unicodedata.normalize('NFKD', string)\n",
    "    encoded_str = normalized_str.encode('ascii', 'ignore')\n",
    "    decoded_str = encoded_str.decode('ascii')\n",
    "    decoded_str = decoded_str.replace('\\\\n', ' ')\n",
    "    decoded_str = re.sub(r'[^\\w\\s]', '', decoded_str)\n",
    "    return decoded_str"
   ]
  },
  {
   "cell_type": "markdown",
   "id": "060f97c7",
   "metadata": {},
   "source": [
    "### Function for Null value imputation for entire dataframe"
   ]
  },
  {
   "cell_type": "code",
   "execution_count": 151,
   "id": "ac67a707",
   "metadata": {},
   "outputs": [],
   "source": [
    "def fill_null_values_df(df):\n",
    "    print(\"Count of Null Values in DataFrame:\")\n",
    "    print(df.isnull().sum())\n",
    "    \n",
    "    for column_name, column_dtype in df.dtypes.iteritems():\n",
    "        print(f\"Column '{column_name}' has data type: {column_dtype}\")\n",
    "        \n",
    "    for column in df.columns:\n",
    "        if df[column].isnull().any():\n",
    "            print(f\"Column: {column}\")\n",
    "            if pd.api.types.is_numeric_dtype(df[column]):\n",
    "                print(f\"Mean: {df[column].mean()}\")\n",
    "                print(f\"Median: {df[column].median()}\")\n",
    "                print(f\"Mode: {df[column].mode().iloc[0]}\")\n",
    "                choice = input(f\"Fill null values in {column} with mean, median, mode, or not available? (Mean/Median/Mode/Not Available): \").strip().lower()\n",
    "                if choice == 'm' or choice == 'mean':\n",
    "                    df[column].fillna(df[column].mean(), inplace=True)\n",
    "                elif choice == 'med' or choice == 'median':\n",
    "                    df[column].fillna(df[column].median(), inplace=True)\n",
    "                elif choice == 'mode':\n",
    "                    mode_val = df[column].mode().iloc[0]\n",
    "                    df[column].fillna(mode_val, inplace=True)\n",
    "                else:\n",
    "                    print(f\"Filling {column} with 'Not Available'\")\n",
    "                    df[column].fillna(\"Not Available\", inplace=True)\n",
    "            else:\n",
    "                print(f\"Filling {column} with 'Not Available'\")\n",
    "                df[column].fillna(\"Not Available\", inplace=True)\n",
    "    return df\n"
   ]
  },
  {
   "cell_type": "markdown",
   "id": "d72f22f3",
   "metadata": {},
   "source": [
    "### Function for Null & NaN value imputation for a specific dataframe column with a specific imputation choice"
   ]
  },
  {
   "cell_type": "code",
   "execution_count": 152,
   "id": "20fca199",
   "metadata": {},
   "outputs": [],
   "source": [
    "def fill_null_values_column(df, column_name, imputation_type):\n",
    "    try: \n",
    "        if imputation_type == 'm' or imputation_type == 'mean':\n",
    "            df[column_name].fillna(df[column_name].mean(), inplace=True)\n",
    "            df.replace(np.nan, '', regex=True)\n",
    "        elif imputation_type == 'med' or imputation_type == 'median':\n",
    "            df[column_name].fillna(df[column_name].median(), inplace=True)\n",
    "        elif imputation_type == 'mode':\n",
    "            mode_val = df[column_name].mode().iloc[0]\n",
    "            df[column_name].fillna(mode_val, inplace=True)\n",
    "        elif imputation_type == 'na':\n",
    "            print(f\"Filling {column_name} with 'Not Available'\")\n",
    "            df[column_name].fillna(\"Not Available\", inplace=True)\n",
    "    except Exception:\n",
    "        print('Wrong input')\n",
    "    return df"
   ]
  },
  {
   "cell_type": "markdown",
   "id": "a230da80",
   "metadata": {},
   "source": [
    "### Function for column duplication counts"
   ]
  },
  {
   "cell_type": "code",
   "execution_count": 153,
   "id": "d53b1382",
   "metadata": {},
   "outputs": [],
   "source": [
    "def count_duplicates_per_column(df):\n",
    "    duplicate_counts = df.apply(lambda col: col.duplicated().sum())\n",
    "    return duplicate_counts\n"
   ]
  },
  {
   "cell_type": "markdown",
   "id": "f38612f8",
   "metadata": {},
   "source": [
    "### Function to count number of zeroes in a column"
   ]
  },
  {
   "cell_type": "code",
   "execution_count": 154,
   "id": "020c45e0",
   "metadata": {},
   "outputs": [],
   "source": [
    "def count_zeros_in_columns(dataframe):\n",
    "    zero_counts = dataframe.eq(0).sum()\n",
    "    for column, count in zero_counts.items():\n",
    "        print(f\"{column} has {count} zero values\")"
   ]
  },
  {
   "cell_type": "markdown",
   "id": "a428a569",
   "metadata": {},
   "source": [
    "### Function to change column to string"
   ]
  },
  {
   "cell_type": "code",
   "execution_count": 155,
   "id": "cb6fd06e",
   "metadata": {},
   "outputs": [],
   "source": [
    "def convert_object_columns_to_string(dataframe):\n",
    "    # Iterate through the columns of the DataFrame\n",
    "    for column in dataframe.columns:\n",
    "        if dataframe[column].dtype == \"object\":\n",
    "            # Convert the \"object\" column to string\n",
    "            dataframe[column] = dataframe[column].astype(str)\n",
    "    \n",
    "    return dataframe"
   ]
  },
  {
   "cell_type": "markdown",
   "id": "1aefdfc2",
   "metadata": {},
   "source": [
    "# Companies dataset exploration"
   ]
  },
  {
   "cell_type": "code",
   "execution_count": 156,
   "id": "ff694d97",
   "metadata": {},
   "outputs": [
    {
     "data": {
      "text/html": [
       "<div>\n",
       "<style scoped>\n",
       "    .dataframe tbody tr th:only-of-type {\n",
       "        vertical-align: middle;\n",
       "    }\n",
       "\n",
       "    .dataframe tbody tr th {\n",
       "        vertical-align: top;\n",
       "    }\n",
       "\n",
       "    .dataframe thead th {\n",
       "        text-align: right;\n",
       "    }\n",
       "</style>\n",
       "<table border=\"1\" class=\"dataframe\">\n",
       "  <thead>\n",
       "    <tr style=\"text-align: right;\">\n",
       "      <th></th>\n",
       "      <th>company_id</th>\n",
       "      <th>name</th>\n",
       "      <th>description</th>\n",
       "      <th>company_size</th>\n",
       "      <th>state</th>\n",
       "      <th>country</th>\n",
       "      <th>city</th>\n",
       "      <th>zip_code</th>\n",
       "      <th>address</th>\n",
       "      <th>url</th>\n",
       "    </tr>\n",
       "  </thead>\n",
       "  <tbody>\n",
       "    <tr>\n",
       "      <th>0</th>\n",
       "      <td>1009</td>\n",
       "      <td>IBM</td>\n",
       "      <td>At IBM, we do more than work. We create. We cr...</td>\n",
       "      <td>7.0</td>\n",
       "      <td>NY</td>\n",
       "      <td>US</td>\n",
       "      <td>Armonk, New York</td>\n",
       "      <td>10504</td>\n",
       "      <td>International Business Machines Corp.</td>\n",
       "      <td>https://www.linkedin.com/company/ibm</td>\n",
       "    </tr>\n",
       "    <tr>\n",
       "      <th>1</th>\n",
       "      <td>1016</td>\n",
       "      <td>GE HealthCare</td>\n",
       "      <td>Every day millions of people feel the impact o...</td>\n",
       "      <td>7.0</td>\n",
       "      <td>0</td>\n",
       "      <td>US</td>\n",
       "      <td>Chicago</td>\n",
       "      <td>0</td>\n",
       "      <td>-</td>\n",
       "      <td>https://www.linkedin.com/company/gehealthcare</td>\n",
       "    </tr>\n",
       "    <tr>\n",
       "      <th>2</th>\n",
       "      <td>1021</td>\n",
       "      <td>GE Power</td>\n",
       "      <td>GE Power, part of GE Vernova, is a world energ...</td>\n",
       "      <td>7.0</td>\n",
       "      <td>NY</td>\n",
       "      <td>US</td>\n",
       "      <td>Schenectady</td>\n",
       "      <td>12345</td>\n",
       "      <td>1 River Road</td>\n",
       "      <td>https://www.linkedin.com/company/gepower</td>\n",
       "    </tr>\n",
       "    <tr>\n",
       "      <th>3</th>\n",
       "      <td>1025</td>\n",
       "      <td>Hewlett Packard Enterprise</td>\n",
       "      <td>Official LinkedIn of Hewlett Packard Enterpris...</td>\n",
       "      <td>7.0</td>\n",
       "      <td>Texas</td>\n",
       "      <td>US</td>\n",
       "      <td>Houston</td>\n",
       "      <td>77389</td>\n",
       "      <td>1701 E Mossy Oaks Rd Spring</td>\n",
       "      <td>https://www.linkedin.com/company/hewlett-packa...</td>\n",
       "    </tr>\n",
       "    <tr>\n",
       "      <th>4</th>\n",
       "      <td>1028</td>\n",
       "      <td>Oracle</td>\n",
       "      <td>We’re a cloud technology company that provides...</td>\n",
       "      <td>7.0</td>\n",
       "      <td>Texas</td>\n",
       "      <td>US</td>\n",
       "      <td>Austin</td>\n",
       "      <td>78741</td>\n",
       "      <td>2300 Oracle Way</td>\n",
       "      <td>https://www.linkedin.com/company/oracle</td>\n",
       "    </tr>\n",
       "  </tbody>\n",
       "</table>\n",
       "</div>"
      ],
      "text/plain": [
       "   company_id                        name  \\\n",
       "0        1009                         IBM   \n",
       "1        1016               GE HealthCare   \n",
       "2        1021                    GE Power   \n",
       "3        1025  Hewlett Packard Enterprise   \n",
       "4        1028                      Oracle   \n",
       "\n",
       "                                         description  company_size  state  \\\n",
       "0  At IBM, we do more than work. We create. We cr...           7.0     NY   \n",
       "1  Every day millions of people feel the impact o...           7.0      0   \n",
       "2  GE Power, part of GE Vernova, is a world energ...           7.0     NY   \n",
       "3  Official LinkedIn of Hewlett Packard Enterpris...           7.0  Texas   \n",
       "4  We’re a cloud technology company that provides...           7.0  Texas   \n",
       "\n",
       "  country              city zip_code                                address  \\\n",
       "0      US  Armonk, New York    10504  International Business Machines Corp.   \n",
       "1      US           Chicago        0                                      -   \n",
       "2      US       Schenectady    12345                           1 River Road   \n",
       "3      US           Houston    77389            1701 E Mossy Oaks Rd Spring   \n",
       "4      US            Austin    78741                        2300 Oracle Way   \n",
       "\n",
       "                                                 url  \n",
       "0               https://www.linkedin.com/company/ibm  \n",
       "1      https://www.linkedin.com/company/gehealthcare  \n",
       "2           https://www.linkedin.com/company/gepower  \n",
       "3  https://www.linkedin.com/company/hewlett-packa...  \n",
       "4            https://www.linkedin.com/company/oracle  "
      ]
     },
     "execution_count": 156,
     "metadata": {},
     "output_type": "execute_result"
    }
   ],
   "source": [
    "\n",
    "comp.head()"
   ]
  },
  {
   "cell_type": "code",
   "execution_count": 157,
   "id": "ca8e3417",
   "metadata": {},
   "outputs": [
    {
     "data": {
      "text/plain": [
       "company_id        int64\n",
       "name             object\n",
       "description      object\n",
       "company_size    float64\n",
       "state            object\n",
       "country          object\n",
       "city             object\n",
       "zip_code         object\n",
       "address          object\n",
       "url              object\n",
       "dtype: object"
      ]
     },
     "execution_count": 157,
     "metadata": {},
     "output_type": "execute_result"
    }
   ],
   "source": [
    "comp.dtypes"
   ]
  },
  {
   "cell_type": "markdown",
   "id": "21cbc5ae",
   "metadata": {},
   "source": [
    "#### Manual normalization to get the state to 1NF (first normal form)"
   ]
  },
  {
   "cell_type": "code",
   "execution_count": 158,
   "id": "25bf5ea4",
   "metadata": {},
   "outputs": [],
   "source": [
    "comp['state'] = comp['state'].replace('sd', 'south dakota')\n",
    "comp['state'] = comp['state'].replace(['kansas','ks'], 'kansas')\n",
    "comp['state'] = comp['state'].replace(['ne','nebraska'], 'nebraska')\n",
    "comp['state'] = comp['state'].replace(['iowa','ia'], 'iowa')\n",
    "comp['state'] = comp['state'].replace(['new south wales','nsw'], 'new-south-wales')\n",
    "comp['state'] = comp['state'].replace(['florence','fi'], 'florence')\n",
    "comp['state'] = comp['state'].replace(['alabama','al'], 'alabama')\n",
    "comp['state'] = comp['state'].replace(['basel','bs','basel-country'], 'basel')\n",
    "comp['state'] = comp['state'].replace('nuevo león', 'nuevo leon')\n",
    "comp['state'] = comp['state'].replace(['new hampshire','hampshire'], 'hampshire')\n",
    "comp['state'] = comp['state'].replace(['louisiana','la'], 'louisiana')\n",
    "comp['state'] = comp['state'].replace(['tamilnadu','tamil nadu'], 'tamilnadu')\n",
    "comp['state'] = comp['state'].replace(['zug','zg'], 'zug')\n",
    "comp['state'] = comp['state'].replace(['hertfordshire','herts'], 'hertfordshire')\n",
    "comp['state'] = comp['state'].replace(['sussex','east sussex'], 'sussex')               \n",
    "comp['state'] = comp['state'].replace(['Alaska','ak'], 'alaska')\n",
    "comp['state'] = comp['state'].replace(['vermont','vt'], 'vermont')                     \n",
    "comp['state'] = comp['state'].replace(['hi','hawaii'], 'hawaii')\n",
    "comp['state'] = comp['state'].replace(['bc','barcelona'], 'barcelona')\n",
    "comp['state'] = comp['state'].replace(['ohio','oh'], 'ohio')\n",
    "comp['state'] = comp['state'].replace(['north rhine-westphalia','north-rhine-westphalia','nordrhein-westfalen','nrw'], 'north-rhine-westphalia')\n",
    "comp['state'] = comp['state'].replace(['or','oregon'], 'oregon')\n",
    "comp['state'] = comp['state'].replace('Córdoba', 'Cordoba')\n",
    "comp['state'] = comp['state'].replace(['il','Illinois','illinos'], 'illinois')\n",
    "comp['state'] = comp['state'].replace(['île-de-france','ile-de-france','ile de france'], 'france')\n",
    "comp['state'] = comp['state'].replace(['georgia','georgia (ga)','ga'], 'georgia')\n",
    "comp['state'] = comp['state'].replace(['co','co.','colorado'], 'colorado')\n",
    "comp['state'] = comp['state'].replace(['nc','north carolina'], 'north carolina')\n",
    "comp['state'] = comp['state'].replace(['bw','baden-württemberg','colorado'], 'baden-wurttemberg')\n",
    "comp['state'] = comp['state'].replace(['tx','texas'], 'texas')\n",
    "comp['state'] = comp['state'].replace(['central london','greater london','london'], 'london')\n",
    "comp['state'] = comp['state'].replace(['pa','pennsylvania'], 'pennsylvania')\n",
    "comp['state'] = comp['state'].replace(['Massachusetts','ma'], 'Massachusetts')\n",
    "comp['state'] = comp['state'].replace(['maharastra','maharashtra','mh'], 'Maharashtra')\n",
    "comp['state'] = comp['state'].replace(['ontario','on'], 'ontario')\n",
    "comp['state'] = comp['state'].replace(['virginia','va'], 'virginia')\n",
    "comp['state'] = comp['state'].replace(['quebec','québec','qc'], 'quebec')\n",
    "comp['state'] = comp['state'].replace(['michigan','mi'], 'michigan')\n",
    "comp['state'] = comp['state'].replace(['mn','minnesota'], 'minnesota')\n",
    "comp['state'] = comp['state'].replace(['ar','arkansas'], 'arkansas')\n",
    "comp['state'] = comp['state'].replace(['ct','connecticut'], 'connecticut')\n",
    "comp['state'] = comp['state'].replace(['cambs','cambridgeshire'], 'cambridgeshire')\n",
    "comp['state'] = comp['state'].replace(['indiana','in'], 'indiana')\n",
    "comp['state'] = comp['state'].replace(['up','uttar pradesh'], 'uttar pradesh')\n",
    "comp['state'] = comp['state'].replace(['wisconsin','wi'], 'wisconsin')\n",
    "comp['state'] = comp['state'].replace(['bc','british columbia'], 'british columbia')\n",
    "comp['state'] = comp['state'].replace(['md','maryland'], 'maryland')\n",
    "comp['state'] = comp['state'].replace(['arizona','az'], 'arizona')\n",
    "comp['state'] = comp['state'].replace(['nh','noord-holland','zuid-holland','south holland','north holland'], 'holland')\n",
    "comp['state'] = comp['state'].replace(['idaho','id'], 'idaho')\n",
    "comp['state'] = comp['state'].replace(['washington','wa','district of columbia'], 'washington')\n",
    "comp['state'] = comp['state'].replace(['fl','florida'], 'florida')\n",
    "comp['state'] = comp['state'].replace(['ky','kentucky'], 'kentucky')\n",
    "comp['state'] = comp['state'].replace(['ri','rhode island'], 'rhode island')\n",
    "comp['state'] = comp['state'].replace(['mt','montana'], 'montana')\n",
    "comp['state'] = comp['state'].replace(['fl','florida'], 'florida')\n",
    "comp['state'] = comp['state'].replace(['tennessee','tn'], 'tennessee')\n",
    "comp['state'] = comp['state'].replace(['mo','missouri'], 'missouri')\n",
    "comp['state'] = comp['state'].replace(['zürich','zurich'], 'zurich')\n",
    "comp['state'] = comp['state'].replace(['utah','ut'], 'utah')\n",
    "comp['state'] = comp['state'].replace(['guangdong','Guangdong'], 'guangdong')\n",
    "comp['state'] = comp['state'].replace(['me','maine'], 'maine')\n",
    "comp['state'] = comp['state'].replace(['haryana','harayana'], 'haryana')\n",
    "comp['state'] = comp['state'].replace(['skane','skane county'], 'skane')\n",
    "comp['state'] = comp['state'].replace(['community of madrid','madrid'], 'madrid')\n",
    "comp['state'] = comp['state'].replace(['mississippi','ms'], 'mississippi')\n",
    "comp['state'] = comp['state'].replace(['saskatchewan','sk'], 'saskatchewan')\n",
    "comp['state'] = comp['state'].replace(['wyoming','wy'], 'wyoming')\n",
    "comp['state'] = comp['state'].replace(['united states','usa'], 'united states')\n",
    "comp['state'] = comp['state'].replace(['anywhere','not available'], 'not available')\n",
    "comp['state'] = comp['state'].replace(['geneva','ch','switzerland'], 'switzerland')\n",
    "comp['state'] = comp['state'].replace(['new mexico','nm'], 'new-mexico')\n",
    "comp['state'] = comp['state'].replace(['oklahoma','ok'], 'oklahoma')\n",
    "comp['state'] = comp['state'].replace(['qld','queensland'], 'queensland')\n",
    "comp['state'] = comp['state'].replace(['alberta','ab'], 'alberta')\n",
    "comp['state'] = comp['state'].replace(['nevada','nv'], 'nevada')\n",
    "comp['state'] = comp['state'].replace(['sc','south carolina'], 'south Carolina')\n",
    "comp['state'] = comp['state'].replace(['new jersey', 'newjersey', 'nj', 'n.j.'], 'new jersey')\n",
    "comp['state'] = comp['state'].replace(['ny', 'ny - new york', 'new york', 'newyork'], 'new york')\n",
    "comp['state'] = comp['state'].replace(['dc', 'd.c.', 'washington d.c.', 'washington', 'wa'], 'washington')\n",
    "comp['state'] = comp['state'].replace(['ca', 'ca.', 'calif.', 'ca - california', 'california'], 'california')\n",
    "comp['state'] = comp['state'].replace('广东省', 'Guangdong')\n",
    "comp['state'] = comp['state'].replace(['delaware', 'de', 'delaware (de)'], 'delaware')\n",
    "comp['state'] = comp['state'].replace(['28801', '0', '01824', '94086'], 'Not Available')"
   ]
  },
  {
   "cell_type": "markdown",
   "id": "fed4ca3e",
   "metadata": {},
   "source": [
    "### Cleaning all string columns to remove non-ASCII values"
   ]
  },
  {
   "cell_type": "code",
   "execution_count": 159,
   "id": "3825ec05",
   "metadata": {},
   "outputs": [],
   "source": [
    "comp = convert_object_columns_to_string(comp)\n",
    "comp['name'] = comp.apply(lambda row: clean_non_ascii_new_line_string(row['name']), axis=1)\n",
    "comp['description'] = comp.apply(lambda row: clean_non_ascii_new_line_string(row['description']), axis=1)\n",
    "comp['state'] = comp.apply(lambda row: clean_non_ascii_new_line_string(row['state']), axis=1)\n",
    "comp['country'] = comp.apply(lambda row: clean_non_ascii_new_line_string(row['country']), axis=1)\n",
    "comp['city'] = comp.apply(lambda row: clean_non_ascii_new_line_string(row['city']), axis=1)\n",
    "comp['zip_code'] = comp.apply(lambda row: clean_non_ascii_new_line_string(row['zip_code']), axis=1)\n",
    "comp['address'] = comp.apply(lambda row: clean_non_ascii_new_line_string(row['address']), axis=1)\n",
    "#comp['url'] = comp.apply(lambda row: clean_non_ascii_new_line_string(row['url']), axis=1)\n"
   ]
  },
  {
   "cell_type": "markdown",
   "id": "15e7c4f1",
   "metadata": {},
   "source": [
    "For all character columns, we will impute with 'Not Available' "
   ]
  },
  {
   "cell_type": "code",
   "execution_count": 160,
   "id": "e1a34e56",
   "metadata": {},
   "outputs": [
    {
     "name": "stdout",
     "output_type": "stream",
     "text": [
      "Filling name with 'Not Available'\n",
      "Filling description with 'Not Available'\n",
      "Filling state with 'Not Available'\n",
      "Filling country with 'Not Available'\n",
      "Filling city with 'Not Available'\n",
      "Filling zip_code with 'Not Available'\n",
      "Filling address with 'Not Available'\n",
      "Filling url with 'Not Available'\n"
     ]
    },
    {
     "data": {
      "text/html": [
       "<div>\n",
       "<style scoped>\n",
       "    .dataframe tbody tr th:only-of-type {\n",
       "        vertical-align: middle;\n",
       "    }\n",
       "\n",
       "    .dataframe tbody tr th {\n",
       "        vertical-align: top;\n",
       "    }\n",
       "\n",
       "    .dataframe thead th {\n",
       "        text-align: right;\n",
       "    }\n",
       "</style>\n",
       "<table border=\"1\" class=\"dataframe\">\n",
       "  <thead>\n",
       "    <tr style=\"text-align: right;\">\n",
       "      <th></th>\n",
       "      <th>company_id</th>\n",
       "      <th>name</th>\n",
       "      <th>description</th>\n",
       "      <th>company_size</th>\n",
       "      <th>state</th>\n",
       "      <th>country</th>\n",
       "      <th>city</th>\n",
       "      <th>zip_code</th>\n",
       "      <th>address</th>\n",
       "      <th>url</th>\n",
       "    </tr>\n",
       "  </thead>\n",
       "  <tbody>\n",
       "    <tr>\n",
       "      <th>0</th>\n",
       "      <td>1009</td>\n",
       "      <td>IBM</td>\n",
       "      <td>At IBM we do more than work We create We creat...</td>\n",
       "      <td>7.0</td>\n",
       "      <td>NY</td>\n",
       "      <td>US</td>\n",
       "      <td>Armonk New York</td>\n",
       "      <td>10504</td>\n",
       "      <td>International Business Machines Corp</td>\n",
       "      <td>https://www.linkedin.com/company/ibm</td>\n",
       "    </tr>\n",
       "    <tr>\n",
       "      <th>1</th>\n",
       "      <td>1016</td>\n",
       "      <td>GE HealthCare</td>\n",
       "      <td>Every day millions of people feel the impact o...</td>\n",
       "      <td>7.0</td>\n",
       "      <td>Not Available</td>\n",
       "      <td>US</td>\n",
       "      <td>Chicago</td>\n",
       "      <td>0</td>\n",
       "      <td></td>\n",
       "      <td>https://www.linkedin.com/company/gehealthcare</td>\n",
       "    </tr>\n",
       "    <tr>\n",
       "      <th>2</th>\n",
       "      <td>1021</td>\n",
       "      <td>GE Power</td>\n",
       "      <td>GE Power part of GE Vernova is a world energy ...</td>\n",
       "      <td>7.0</td>\n",
       "      <td>NY</td>\n",
       "      <td>US</td>\n",
       "      <td>Schenectady</td>\n",
       "      <td>12345</td>\n",
       "      <td>1 River Road</td>\n",
       "      <td>https://www.linkedin.com/company/gepower</td>\n",
       "    </tr>\n",
       "    <tr>\n",
       "      <th>3</th>\n",
       "      <td>1025</td>\n",
       "      <td>Hewlett Packard Enterprise</td>\n",
       "      <td>Official LinkedIn of Hewlett Packard Enterpris...</td>\n",
       "      <td>7.0</td>\n",
       "      <td>Texas</td>\n",
       "      <td>US</td>\n",
       "      <td>Houston</td>\n",
       "      <td>77389</td>\n",
       "      <td>1701 E Mossy Oaks Rd Spring</td>\n",
       "      <td>https://www.linkedin.com/company/hewlett-packa...</td>\n",
       "    </tr>\n",
       "    <tr>\n",
       "      <th>4</th>\n",
       "      <td>1028</td>\n",
       "      <td>Oracle</td>\n",
       "      <td>Were a cloud technology company that provides ...</td>\n",
       "      <td>7.0</td>\n",
       "      <td>Texas</td>\n",
       "      <td>US</td>\n",
       "      <td>Austin</td>\n",
       "      <td>78741</td>\n",
       "      <td>2300 Oracle Way</td>\n",
       "      <td>https://www.linkedin.com/company/oracle</td>\n",
       "    </tr>\n",
       "    <tr>\n",
       "      <th>...</th>\n",
       "      <td>...</td>\n",
       "      <td>...</td>\n",
       "      <td>...</td>\n",
       "      <td>...</td>\n",
       "      <td>...</td>\n",
       "      <td>...</td>\n",
       "      <td>...</td>\n",
       "      <td>...</td>\n",
       "      <td>...</td>\n",
       "      <td>...</td>\n",
       "    </tr>\n",
       "    <tr>\n",
       "      <th>6058</th>\n",
       "      <td>3700144594</td>\n",
       "      <td>BYREDO</td>\n",
       "      <td>Beauty can be many things to many people Our j...</td>\n",
       "      <td>3.0</td>\n",
       "      <td>Not Available</td>\n",
       "      <td>0</td>\n",
       "      <td>0</td>\n",
       "      <td>0</td>\n",
       "      <td>0</td>\n",
       "      <td>https://www.linkedin.com/company/byredo</td>\n",
       "    </tr>\n",
       "    <tr>\n",
       "      <th>6059</th>\n",
       "      <td>3700144710</td>\n",
       "      <td>Pros2Plan a division of Spinnaker SCA</td>\n",
       "      <td>Pros2Plan a  division of Spinnaker Services LL...</td>\n",
       "      <td>2.0</td>\n",
       "      <td>CO</td>\n",
       "      <td>US</td>\n",
       "      <td>Boulder</td>\n",
       "      <td>80303</td>\n",
       "      <td>0</td>\n",
       "      <td>https://www.linkedin.com/company/pros2plan</td>\n",
       "    </tr>\n",
       "    <tr>\n",
       "      <th>6060</th>\n",
       "      <td>3700147810</td>\n",
       "      <td>Ascendo Resources</td>\n",
       "      <td>Ascendo Resources is a certified minority owne...</td>\n",
       "      <td>3.0</td>\n",
       "      <td>FL</td>\n",
       "      <td>US</td>\n",
       "      <td>Coral Gables</td>\n",
       "      <td>33134</td>\n",
       "      <td>2 Alhambra Plaza</td>\n",
       "      <td>https://www.linkedin.com/company/ascendoresources</td>\n",
       "    </tr>\n",
       "    <tr>\n",
       "      <th>6061</th>\n",
       "      <td>3700150295</td>\n",
       "      <td>The Crox Group</td>\n",
       "      <td>The Crox Group Head Quartered in Chicago with ...</td>\n",
       "      <td>2.0</td>\n",
       "      <td>illinois</td>\n",
       "      <td>US</td>\n",
       "      <td>Lincolnwood</td>\n",
       "      <td>60712</td>\n",
       "      <td>6818 N Lincoln Ave</td>\n",
       "      <td>https://www.linkedin.com/company/the-crox-group</td>\n",
       "    </tr>\n",
       "    <tr>\n",
       "      <th>6062</th>\n",
       "      <td>3700152513</td>\n",
       "      <td>Sidley Austin LLP</td>\n",
       "      <td>Sidley is an elite global law firm with nearly...</td>\n",
       "      <td>5.0</td>\n",
       "      <td>illinois</td>\n",
       "      <td>US</td>\n",
       "      <td>Chicago</td>\n",
       "      <td>60603</td>\n",
       "      <td>One South Dearborn</td>\n",
       "      <td>https://www.linkedin.com/company/sidley-austin</td>\n",
       "    </tr>\n",
       "  </tbody>\n",
       "</table>\n",
       "<p>6063 rows × 10 columns</p>\n",
       "</div>"
      ],
      "text/plain": [
       "      company_id                                   name  \\\n",
       "0           1009                                    IBM   \n",
       "1           1016                          GE HealthCare   \n",
       "2           1021                               GE Power   \n",
       "3           1025             Hewlett Packard Enterprise   \n",
       "4           1028                                 Oracle   \n",
       "...          ...                                    ...   \n",
       "6058  3700144594                                 BYREDO   \n",
       "6059  3700144710  Pros2Plan a division of Spinnaker SCA   \n",
       "6060  3700147810                      Ascendo Resources   \n",
       "6061  3700150295                         The Crox Group   \n",
       "6062  3700152513                      Sidley Austin LLP   \n",
       "\n",
       "                                            description  company_size  \\\n",
       "0     At IBM we do more than work We create We creat...           7.0   \n",
       "1     Every day millions of people feel the impact o...           7.0   \n",
       "2     GE Power part of GE Vernova is a world energy ...           7.0   \n",
       "3     Official LinkedIn of Hewlett Packard Enterpris...           7.0   \n",
       "4     Were a cloud technology company that provides ...           7.0   \n",
       "...                                                 ...           ...   \n",
       "6058  Beauty can be many things to many people Our j...           3.0   \n",
       "6059  Pros2Plan a  division of Spinnaker Services LL...           2.0   \n",
       "6060  Ascendo Resources is a certified minority owne...           3.0   \n",
       "6061  The Crox Group Head Quartered in Chicago with ...           2.0   \n",
       "6062  Sidley is an elite global law firm with nearly...           5.0   \n",
       "\n",
       "              state country             city zip_code  \\\n",
       "0                NY      US  Armonk New York    10504   \n",
       "1     Not Available      US          Chicago        0   \n",
       "2                NY      US      Schenectady    12345   \n",
       "3             Texas      US          Houston    77389   \n",
       "4             Texas      US           Austin    78741   \n",
       "...             ...     ...              ...      ...   \n",
       "6058  Not Available       0                0        0   \n",
       "6059             CO      US          Boulder    80303   \n",
       "6060             FL      US     Coral Gables    33134   \n",
       "6061       illinois      US      Lincolnwood    60712   \n",
       "6062       illinois      US          Chicago    60603   \n",
       "\n",
       "                                   address  \\\n",
       "0     International Business Machines Corp   \n",
       "1                                            \n",
       "2                             1 River Road   \n",
       "3              1701 E Mossy Oaks Rd Spring   \n",
       "4                          2300 Oracle Way   \n",
       "...                                    ...   \n",
       "6058                                     0   \n",
       "6059                                     0   \n",
       "6060                      2 Alhambra Plaza   \n",
       "6061                    6818 N Lincoln Ave   \n",
       "6062                    One South Dearborn   \n",
       "\n",
       "                                                    url  \n",
       "0                  https://www.linkedin.com/company/ibm  \n",
       "1         https://www.linkedin.com/company/gehealthcare  \n",
       "2              https://www.linkedin.com/company/gepower  \n",
       "3     https://www.linkedin.com/company/hewlett-packa...  \n",
       "4               https://www.linkedin.com/company/oracle  \n",
       "...                                                 ...  \n",
       "6058            https://www.linkedin.com/company/byredo  \n",
       "6059         https://www.linkedin.com/company/pros2plan  \n",
       "6060  https://www.linkedin.com/company/ascendoresources  \n",
       "6061    https://www.linkedin.com/company/the-crox-group  \n",
       "6062     https://www.linkedin.com/company/sidley-austin  \n",
       "\n",
       "[6063 rows x 10 columns]"
      ]
     },
     "execution_count": 160,
     "metadata": {},
     "output_type": "execute_result"
    }
   ],
   "source": [
    "fill_null_values_column(comp, 'name', 'na') \n",
    "fill_null_values_column(comp, 'description', 'na')\n",
    "fill_null_values_column(comp, 'state', 'na')\n",
    "fill_null_values_column(comp, 'country', 'na')\n",
    "fill_null_values_column(comp, 'city', 'na')\n",
    "fill_null_values_column(comp, 'zip_code', 'na')\n",
    "fill_null_values_column(comp, 'address', 'na')\n",
    "fill_null_values_column(comp, 'url', 'na')"
   ]
  },
  {
   "cell_type": "code",
   "execution_count": 161,
   "id": "3d123a7a",
   "metadata": {},
   "outputs": [
    {
     "name": "stdout",
     "output_type": "stream",
     "text": [
      "company_id has 0 zero values\n",
      "name has 0 zero values\n",
      "description has 0 zero values\n",
      "company_size has 0 zero values\n",
      "state has 0 zero values\n",
      "country has 0 zero values\n",
      "city has 0 zero values\n",
      "zip_code has 0 zero values\n",
      "address has 0 zero values\n",
      "url has 0 zero values\n"
     ]
    }
   ],
   "source": [
    "count_zeros_in_columns(comp)"
   ]
  },
  {
   "cell_type": "markdown",
   "id": "d9ab7855",
   "metadata": {},
   "source": [
    "### Duplicates check"
   ]
  },
  {
   "cell_type": "code",
   "execution_count": 162,
   "id": "2dc759a6",
   "metadata": {},
   "outputs": [
    {
     "data": {
      "text/plain": [
       "(6063, 10)"
      ]
     },
     "execution_count": 162,
     "metadata": {},
     "output_type": "execute_result"
    }
   ],
   "source": [
    "comp.shape"
   ]
  },
  {
   "cell_type": "markdown",
   "id": "b2d17544",
   "metadata": {},
   "source": [
    "### Removing duplicates"
   ]
  },
  {
   "cell_type": "code",
   "execution_count": 163,
   "id": "d976b5ac",
   "metadata": {},
   "outputs": [],
   "source": [
    "comp = comp.drop_duplicates()"
   ]
  },
  {
   "cell_type": "code",
   "execution_count": 164,
   "id": "f278d673",
   "metadata": {},
   "outputs": [
    {
     "data": {
      "text/plain": [
       "company_id         0\n",
       "name              37\n",
       "description       97\n",
       "company_size    6055\n",
       "state           5742\n",
       "country         6013\n",
       "city            4402\n",
       "zip_code        3160\n",
       "address         1007\n",
       "url               33\n",
       "dtype: int64"
      ]
     },
     "execution_count": 164,
     "metadata": {},
     "output_type": "execute_result"
    }
   ],
   "source": [
    "count_duplicates_per_column(comp)"
   ]
  },
  {
   "cell_type": "markdown",
   "id": "4f71ac5e",
   "metadata": {},
   "source": [
    "#### Since we dont have any duplicates in company_id, we can use it as a primary key"
   ]
  },
  {
   "cell_type": "markdown",
   "id": "5b8b8e72",
   "metadata": {},
   "source": [
    "# empolyee count dataset exploration"
   ]
  },
  {
   "cell_type": "code",
   "execution_count": 165,
   "id": "44d0c780",
   "metadata": {},
   "outputs": [
    {
     "data": {
      "text/html": [
       "<div>\n",
       "<style scoped>\n",
       "    .dataframe tbody tr th:only-of-type {\n",
       "        vertical-align: middle;\n",
       "    }\n",
       "\n",
       "    .dataframe tbody tr th {\n",
       "        vertical-align: top;\n",
       "    }\n",
       "\n",
       "    .dataframe thead th {\n",
       "        text-align: right;\n",
       "    }\n",
       "</style>\n",
       "<table border=\"1\" class=\"dataframe\">\n",
       "  <thead>\n",
       "    <tr style=\"text-align: right;\">\n",
       "      <th></th>\n",
       "      <th>company_id</th>\n",
       "      <th>employee_count</th>\n",
       "      <th>follower_count</th>\n",
       "      <th>time_recorded</th>\n",
       "    </tr>\n",
       "  </thead>\n",
       "  <tbody>\n",
       "    <tr>\n",
       "      <th>0</th>\n",
       "      <td>81149246</td>\n",
       "      <td>6</td>\n",
       "      <td>91</td>\n",
       "      <td>1.692645e+09</td>\n",
       "    </tr>\n",
       "    <tr>\n",
       "      <th>1</th>\n",
       "      <td>10033339</td>\n",
       "      <td>3</td>\n",
       "      <td>187</td>\n",
       "      <td>1.692645e+09</td>\n",
       "    </tr>\n",
       "    <tr>\n",
       "      <th>2</th>\n",
       "      <td>6049228</td>\n",
       "      <td>20</td>\n",
       "      <td>82</td>\n",
       "      <td>1.692645e+09</td>\n",
       "    </tr>\n",
       "    <tr>\n",
       "      <th>3</th>\n",
       "      <td>2641066</td>\n",
       "      <td>45</td>\n",
       "      <td>2336</td>\n",
       "      <td>1.692645e+09</td>\n",
       "    </tr>\n",
       "    <tr>\n",
       "      <th>4</th>\n",
       "      <td>96649998</td>\n",
       "      <td>0</td>\n",
       "      <td>2</td>\n",
       "      <td>1.692645e+09</td>\n",
       "    </tr>\n",
       "  </tbody>\n",
       "</table>\n",
       "</div>"
      ],
      "text/plain": [
       "   company_id  employee_count  follower_count  time_recorded\n",
       "0    81149246               6              91   1.692645e+09\n",
       "1    10033339               3             187   1.692645e+09\n",
       "2     6049228              20              82   1.692645e+09\n",
       "3     2641066              45            2336   1.692645e+09\n",
       "4    96649998               0               2   1.692645e+09"
      ]
     },
     "execution_count": 165,
     "metadata": {},
     "output_type": "execute_result"
    }
   ],
   "source": [
    "emp_count.head()"
   ]
  },
  {
   "cell_type": "code",
   "execution_count": 166,
   "id": "45615544",
   "metadata": {},
   "outputs": [
    {
     "name": "stdout",
     "output_type": "stream",
     "text": [
      "company_id has 0 zero values\n",
      "employee_count has 55 zero values\n",
      "follower_count has 10 zero values\n",
      "time_recorded has 0 zero values\n"
     ]
    }
   ],
   "source": [
    "count_zeros_in_columns(emp_count)"
   ]
  },
  {
   "cell_type": "markdown",
   "id": "f0e6f2d1",
   "metadata": {},
   "source": [
    "There are few values with 0 employee count and/or 0 followers; this is possible since this is LinkedIn data; we will keep as is"
   ]
  },
  {
   "cell_type": "markdown",
   "id": "9c32ee1d",
   "metadata": {},
   "source": [
    "### Duplicates check "
   ]
  },
  {
   "cell_type": "code",
   "execution_count": 167,
   "id": "a8607d75",
   "metadata": {},
   "outputs": [
    {
     "data": {
      "text/plain": [
       "company_id         9877\n",
       "employee_count    13268\n",
       "follower_count     7820\n",
       "time_recorded     14822\n",
       "dtype: int64"
      ]
     },
     "execution_count": 167,
     "metadata": {},
     "output_type": "execute_result"
    }
   ],
   "source": [
    "count_duplicates_per_column(emp_count)"
   ]
  },
  {
   "cell_type": "markdown",
   "id": "86cfebfb",
   "metadata": {},
   "source": [
    "Removing duplicates"
   ]
  },
  {
   "cell_type": "code",
   "execution_count": 168,
   "id": "27c4ac7a",
   "metadata": {},
   "outputs": [],
   "source": [
    "emp_count=emp_count.drop_duplicates()"
   ]
  },
  {
   "cell_type": "code",
   "execution_count": 169,
   "id": "01aef9b3",
   "metadata": {},
   "outputs": [
    {
     "data": {
      "text/plain": [
       "(12551, 4)"
      ]
     },
     "execution_count": 169,
     "metadata": {},
     "output_type": "execute_result"
    }
   ],
   "source": [
    "emp_count.shape"
   ]
  },
  {
   "cell_type": "code",
   "execution_count": 170,
   "id": "ca555da9",
   "metadata": {},
   "outputs": [
    {
     "data": {
      "text/plain": [
       "company_id         6521\n",
       "employee_count     9912\n",
       "follower_count     4464\n",
       "time_recorded     11466\n",
       "dtype: int64"
      ]
     },
     "execution_count": 170,
     "metadata": {},
     "output_type": "execute_result"
    }
   ],
   "source": [
    "count_duplicates_per_column(emp_count)"
   ]
  },
  {
   "cell_type": "markdown",
   "id": "63db446f",
   "metadata": {},
   "source": [
    "#### Duplicates can occur since data is recorded at different times and hence duplication of company_id is expected"
   ]
  },
  {
   "cell_type": "markdown",
   "id": "3a24ab3a",
   "metadata": {},
   "source": [
    "#### Converting time_recorded to date-time stamp"
   ]
  },
  {
   "cell_type": "code",
   "execution_count": 171,
   "id": "1d4728ae",
   "metadata": {},
   "outputs": [],
   "source": [
    "emp_count['time_recorded_ts'] = pd.to_datetime(emp_count['time_recorded'], unit='ms')"
   ]
  },
  {
   "cell_type": "markdown",
   "id": "770c4f16",
   "metadata": {},
   "source": [
    "# company_specialities dataset exploration"
   ]
  },
  {
   "cell_type": "code",
   "execution_count": 172,
   "id": "bc41be51",
   "metadata": {},
   "outputs": [
    {
     "data": {
      "text/html": [
       "<div>\n",
       "<style scoped>\n",
       "    .dataframe tbody tr th:only-of-type {\n",
       "        vertical-align: middle;\n",
       "    }\n",
       "\n",
       "    .dataframe tbody tr th {\n",
       "        vertical-align: top;\n",
       "    }\n",
       "\n",
       "    .dataframe thead th {\n",
       "        text-align: right;\n",
       "    }\n",
       "</style>\n",
       "<table border=\"1\" class=\"dataframe\">\n",
       "  <thead>\n",
       "    <tr style=\"text-align: right;\">\n",
       "      <th></th>\n",
       "      <th>company_id</th>\n",
       "      <th>speciality</th>\n",
       "    </tr>\n",
       "  </thead>\n",
       "  <tbody>\n",
       "    <tr>\n",
       "      <th>0</th>\n",
       "      <td>81149246</td>\n",
       "      <td>Childrens Music Education</td>\n",
       "    </tr>\n",
       "    <tr>\n",
       "      <th>1</th>\n",
       "      <td>81149246</td>\n",
       "      <td>Foundational Music Theory</td>\n",
       "    </tr>\n",
       "    <tr>\n",
       "      <th>2</th>\n",
       "      <td>81149246</td>\n",
       "      <td>Child Music Lessons</td>\n",
       "    </tr>\n",
       "    <tr>\n",
       "      <th>3</th>\n",
       "      <td>81149246</td>\n",
       "      <td>social emotional learning</td>\n",
       "    </tr>\n",
       "    <tr>\n",
       "      <th>4</th>\n",
       "      <td>81149246</td>\n",
       "      <td>social emotional development</td>\n",
       "    </tr>\n",
       "  </tbody>\n",
       "</table>\n",
       "</div>"
      ],
      "text/plain": [
       "   company_id                    speciality\n",
       "0    81149246     Childrens Music Education\n",
       "1    81149246     Foundational Music Theory\n",
       "2    81149246           Child Music Lessons\n",
       "3    81149246     social emotional learning\n",
       "4    81149246  social emotional development"
      ]
     },
     "execution_count": 172,
     "metadata": {},
     "output_type": "execute_result"
    }
   ],
   "source": [
    "comp_spec.head()"
   ]
  },
  {
   "cell_type": "code",
   "execution_count": 173,
   "id": "1d708e76",
   "metadata": {},
   "outputs": [
    {
     "data": {
      "text/plain": [
       "(128355, 2)"
      ]
     },
     "execution_count": 173,
     "metadata": {},
     "output_type": "execute_result"
    }
   ],
   "source": [
    "comp_spec.shape"
   ]
  },
  {
   "cell_type": "markdown",
   "id": "a3e81c93",
   "metadata": {},
   "source": [
    "#### Removing duplicates"
   ]
  },
  {
   "cell_type": "code",
   "execution_count": 174,
   "id": "d5180f2c",
   "metadata": {},
   "outputs": [],
   "source": [
    "comp_spec = comp_spec.drop_duplicates()"
   ]
  },
  {
   "cell_type": "code",
   "execution_count": 175,
   "id": "098e78f3",
   "metadata": {},
   "outputs": [
    {
     "data": {
      "text/plain": [
       "(42605, 2)"
      ]
     },
     "execution_count": 175,
     "metadata": {},
     "output_type": "execute_result"
    }
   ],
   "source": [
    "comp_spec.shape"
   ]
  },
  {
   "cell_type": "code",
   "execution_count": 176,
   "id": "36c422d2",
   "metadata": {},
   "outputs": [
    {
     "name": "stdout",
     "output_type": "stream",
     "text": [
      "company_id has 0 zero values\n",
      "speciality has 0 zero values\n"
     ]
    }
   ],
   "source": [
    "count_zeros_in_columns(comp_spec)"
   ]
  },
  {
   "cell_type": "markdown",
   "id": "9930300d",
   "metadata": {},
   "source": [
    "#### Cleaning non-ASCII values from speciality column"
   ]
  },
  {
   "cell_type": "code",
   "execution_count": 177,
   "id": "01f16bf4",
   "metadata": {},
   "outputs": [
    {
     "name": "stdout",
     "output_type": "stream",
     "text": [
      "0        Childrens Music Education\n",
      "1        Foundational Music Theory\n",
      "2              Child Music Lessons\n",
      "3        social emotional learning\n",
      "4     social emotional development\n",
      "5                        education\n",
      "6             formative assessment\n",
      "7                expanded learning\n",
      "8              enrichment programs\n",
      "9                       SharePoint\n",
      "10                      Office 365\n",
      "11                      Consulting\n",
      "12              Project management\n",
      "13                        InfoPath\n",
      "14          Government contracting\n",
      "15                       PowerApps\n",
      "16                  Microsoft Flow\n",
      "17                           Agile\n",
      "18                          DevOps\n",
      "19                 Cloud computing\n",
      "Name: speciality, dtype: object\n"
     ]
    }
   ],
   "source": [
    "comp_spec = convert_object_columns_to_string(comp_spec)\n",
    "comp_spec['speciality'] = comp_spec.apply(lambda row: clean_non_ascii_new_line_string(row['speciality']), axis=1)\n",
    "print(comp_spec['speciality'].head(20))"
   ]
  },
  {
   "cell_type": "markdown",
   "id": "801ef1d8",
   "metadata": {},
   "source": [
    "### Duplicates can occur since occur since 1 company can have multiple specialities"
   ]
  },
  {
   "cell_type": "code",
   "execution_count": 178,
   "id": "9d2f29e6",
   "metadata": {
    "scrolled": true
   },
   "outputs": [
    {
     "data": {
      "text/plain": [
       "company_id    38118\n",
       "speciality    17882\n",
       "dtype: int64"
      ]
     },
     "execution_count": 178,
     "metadata": {},
     "output_type": "execute_result"
    }
   ],
   "source": [
    "count_duplicates_per_column(comp_spec)"
   ]
  },
  {
   "cell_type": "markdown",
   "id": "f301a2cb",
   "metadata": {},
   "source": [
    "# company_industries dataset exploration"
   ]
  },
  {
   "cell_type": "code",
   "execution_count": 179,
   "id": "d4ad77fa",
   "metadata": {},
   "outputs": [
    {
     "data": {
      "text/html": [
       "<div>\n",
       "<style scoped>\n",
       "    .dataframe tbody tr th:only-of-type {\n",
       "        vertical-align: middle;\n",
       "    }\n",
       "\n",
       "    .dataframe tbody tr th {\n",
       "        vertical-align: top;\n",
       "    }\n",
       "\n",
       "    .dataframe thead th {\n",
       "        text-align: right;\n",
       "    }\n",
       "</style>\n",
       "<table border=\"1\" class=\"dataframe\">\n",
       "  <thead>\n",
       "    <tr style=\"text-align: right;\">\n",
       "      <th></th>\n",
       "      <th>company_id</th>\n",
       "      <th>industry</th>\n",
       "    </tr>\n",
       "  </thead>\n",
       "  <tbody>\n",
       "    <tr>\n",
       "      <th>0</th>\n",
       "      <td>81149246</td>\n",
       "      <td>Higher Education</td>\n",
       "    </tr>\n",
       "    <tr>\n",
       "      <th>1</th>\n",
       "      <td>10033339</td>\n",
       "      <td>Information Technology &amp; Services</td>\n",
       "    </tr>\n",
       "    <tr>\n",
       "      <th>2</th>\n",
       "      <td>6049228</td>\n",
       "      <td>Accounting</td>\n",
       "    </tr>\n",
       "    <tr>\n",
       "      <th>3</th>\n",
       "      <td>2641066</td>\n",
       "      <td>Electrical &amp; Electronic Manufacturing</td>\n",
       "    </tr>\n",
       "    <tr>\n",
       "      <th>4</th>\n",
       "      <td>96649998</td>\n",
       "      <td>Marketing &amp; Advertising</td>\n",
       "    </tr>\n",
       "  </tbody>\n",
       "</table>\n",
       "</div>"
      ],
      "text/plain": [
       "   company_id                               industry\n",
       "0    81149246                       Higher Education\n",
       "1    10033339      Information Technology & Services\n",
       "2     6049228                             Accounting\n",
       "3     2641066  Electrical & Electronic Manufacturing\n",
       "4    96649998                Marketing & Advertising"
      ]
     },
     "execution_count": 179,
     "metadata": {},
     "output_type": "execute_result"
    }
   ],
   "source": [
    "comp_ind.head()"
   ]
  },
  {
   "cell_type": "code",
   "execution_count": 180,
   "id": "5bf8b0f5",
   "metadata": {},
   "outputs": [],
   "source": [
    "comp_ind = comp_ind.drop_duplicates()"
   ]
  },
  {
   "cell_type": "code",
   "execution_count": 181,
   "id": "e34063d1",
   "metadata": {},
   "outputs": [
    {
     "data": {
      "text/plain": [
       "(6003, 2)"
      ]
     },
     "execution_count": 181,
     "metadata": {},
     "output_type": "execute_result"
    }
   ],
   "source": [
    "comp_ind.shape"
   ]
  },
  {
   "cell_type": "code",
   "execution_count": 182,
   "id": "2e48efd6",
   "metadata": {},
   "outputs": [
    {
     "name": "stdout",
     "output_type": "stream",
     "text": [
      "company_id has 0 zero values\n",
      "industry has 0 zero values\n"
     ]
    }
   ],
   "source": [
    "count_zeros_in_columns(comp_ind)"
   ]
  },
  {
   "cell_type": "markdown",
   "id": "1138097f",
   "metadata": {},
   "source": [
    "### Duplicates check"
   ]
  },
  {
   "cell_type": "code",
   "execution_count": 183,
   "id": "c7000e59",
   "metadata": {},
   "outputs": [
    {
     "data": {
      "text/plain": [
       "company_id       0\n",
       "industry      5862\n",
       "dtype: int64"
      ]
     },
     "execution_count": 183,
     "metadata": {},
     "output_type": "execute_result"
    }
   ],
   "source": [
    "count_duplicates_per_column(comp_ind)"
   ]
  },
  {
   "cell_type": "markdown",
   "id": "202f3b26",
   "metadata": {},
   "source": [
    "#### Cleaning non-ASCII values from industry column"
   ]
  },
  {
   "cell_type": "code",
   "execution_count": 184,
   "id": "ba249bc9",
   "metadata": {},
   "outputs": [
    {
     "name": "stdout",
     "output_type": "stream",
     "text": [
      "0                         Higher Education\n",
      "1         Information Technology  Services\n",
      "2                               Accounting\n",
      "3     Electrical  Electronic Manufacturing\n",
      "4                   Marketing  Advertising\n",
      "5                    Hospital  Health Care\n",
      "6         Information Technology  Services\n",
      "7                  Logistics  Supply Chain\n",
      "8                         Medical Practice\n",
      "9                       Mental Health Care\n",
      "10        Information Technology  Services\n",
      "11                  Architecture  Planning\n",
      "12       Recreational Facilities  Services\n",
      "13                                Internet\n",
      "14                    Staffing  Recruiting\n",
      "15                                Research\n",
      "16                       Civil Engineering\n",
      "17                   Management Consulting\n",
      "18                   Management Consulting\n",
      "19                      Mental Health Care\n",
      "Name: industry, dtype: object\n"
     ]
    }
   ],
   "source": [
    "comp_ind = convert_object_columns_to_string(comp_ind)\n",
    "comp_ind['industry'] = comp_ind.apply(lambda row: clean_non_ascii_new_line_string(row['industry']), axis=1)\n",
    "print(comp_ind['industry'].head(20))"
   ]
  },
  {
   "cell_type": "markdown",
   "id": "de255e00",
   "metadata": {},
   "source": [
    "# job skills"
   ]
  },
  {
   "cell_type": "code",
   "execution_count": 185,
   "id": "720cc5ff",
   "metadata": {},
   "outputs": [
    {
     "data": {
      "text/html": [
       "<div>\n",
       "<style scoped>\n",
       "    .dataframe tbody tr th:only-of-type {\n",
       "        vertical-align: middle;\n",
       "    }\n",
       "\n",
       "    .dataframe tbody tr th {\n",
       "        vertical-align: top;\n",
       "    }\n",
       "\n",
       "    .dataframe thead th {\n",
       "        text-align: right;\n",
       "    }\n",
       "</style>\n",
       "<table border=\"1\" class=\"dataframe\">\n",
       "  <thead>\n",
       "    <tr style=\"text-align: right;\">\n",
       "      <th></th>\n",
       "      <th>job_id</th>\n",
       "      <th>skill_abr</th>\n",
       "    </tr>\n",
       "  </thead>\n",
       "  <tbody>\n",
       "    <tr>\n",
       "      <th>0</th>\n",
       "      <td>3690843087</td>\n",
       "      <td>ACCT</td>\n",
       "    </tr>\n",
       "    <tr>\n",
       "      <th>1</th>\n",
       "      <td>3690843087</td>\n",
       "      <td>FIN</td>\n",
       "    </tr>\n",
       "    <tr>\n",
       "      <th>2</th>\n",
       "      <td>3691763971</td>\n",
       "      <td>MGMT</td>\n",
       "    </tr>\n",
       "    <tr>\n",
       "      <th>3</th>\n",
       "      <td>3691763971</td>\n",
       "      <td>MNFC</td>\n",
       "    </tr>\n",
       "    <tr>\n",
       "      <th>4</th>\n",
       "      <td>3691775263</td>\n",
       "      <td>MGMT</td>\n",
       "    </tr>\n",
       "  </tbody>\n",
       "</table>\n",
       "</div>"
      ],
      "text/plain": [
       "       job_id skill_abr\n",
       "0  3690843087      ACCT\n",
       "1  3690843087       FIN\n",
       "2  3691763971      MGMT\n",
       "3  3691763971      MNFC\n",
       "4  3691775263      MGMT"
      ]
     },
     "execution_count": 185,
     "metadata": {},
     "output_type": "execute_result"
    }
   ],
   "source": [
    "job_skill.head()"
   ]
  },
  {
   "cell_type": "code",
   "execution_count": 186,
   "id": "4599d304",
   "metadata": {},
   "outputs": [
    {
     "name": "stdout",
     "output_type": "stream",
     "text": [
      "job_id has 0 zero values\n",
      "skill_abr has 0 zero values\n"
     ]
    }
   ],
   "source": [
    "count_zeros_in_columns(job_skill)"
   ]
  },
  {
   "cell_type": "markdown",
   "id": "4dfcd320",
   "metadata": {},
   "source": [
    "### Duplicate counts check"
   ]
  },
  {
   "cell_type": "code",
   "execution_count": 187,
   "id": "550f815c",
   "metadata": {},
   "outputs": [
    {
     "data": {
      "text/plain": [
       "job_id       12262\n",
       "skill_abr    27864\n",
       "dtype: int64"
      ]
     },
     "execution_count": 187,
     "metadata": {},
     "output_type": "execute_result"
    }
   ],
   "source": [
    "count_duplicates_per_column(job_skill)"
   ]
  },
  {
   "cell_type": "code",
   "execution_count": 188,
   "id": "5a0f7e41",
   "metadata": {},
   "outputs": [],
   "source": [
    "job_skill = job_skill.drop_duplicates()"
   ]
  },
  {
   "cell_type": "markdown",
   "id": "6fc94d8b",
   "metadata": {},
   "source": [
    "#### Cleaning non-ASCII values from abbreviation column"
   ]
  },
  {
   "cell_type": "code",
   "execution_count": 189,
   "id": "e97313e7",
   "metadata": {},
   "outputs": [
    {
     "name": "stdout",
     "output_type": "stream",
     "text": [
      "0     ACCT\n",
      "1      FIN\n",
      "2     MGMT\n",
      "3     MNFC\n",
      "4     MGMT\n",
      "5     MNFC\n",
      "6     HCPR\n",
      "7     MGMT\n",
      "8     MNFC\n",
      "9     HCPR\n",
      "10     ENG\n",
      "11      IT\n",
      "12     ADM\n",
      "13     ADM\n",
      "14    HCPR\n",
      "15    SALE\n",
      "16      IT\n",
      "17    DSGN\n",
      "18     ART\n",
      "19      IT\n",
      "Name: skill_abr, dtype: object\n"
     ]
    }
   ],
   "source": [
    "job_skill = convert_object_columns_to_string(job_skill)\n",
    "job_skill['skill_abr'] = job_skill.apply(lambda row: clean_non_ascii_new_line_string(row['skill_abr']), axis=1)\n",
    "print(job_skill['skill_abr'].head(20))"
   ]
  },
  {
   "cell_type": "markdown",
   "id": "0fdbe3ad",
   "metadata": {},
   "source": [
    "# job_industries"
   ]
  },
  {
   "cell_type": "code",
   "execution_count": 190,
   "id": "e4589ded",
   "metadata": {},
   "outputs": [
    {
     "data": {
      "text/html": [
       "<div>\n",
       "<style scoped>\n",
       "    .dataframe tbody tr th:only-of-type {\n",
       "        vertical-align: middle;\n",
       "    }\n",
       "\n",
       "    .dataframe tbody tr th {\n",
       "        vertical-align: top;\n",
       "    }\n",
       "\n",
       "    .dataframe thead th {\n",
       "        text-align: right;\n",
       "    }\n",
       "</style>\n",
       "<table border=\"1\" class=\"dataframe\">\n",
       "  <thead>\n",
       "    <tr style=\"text-align: right;\">\n",
       "      <th></th>\n",
       "      <th>job_id</th>\n",
       "      <th>industry_id</th>\n",
       "    </tr>\n",
       "  </thead>\n",
       "  <tbody>\n",
       "    <tr>\n",
       "      <th>0</th>\n",
       "      <td>3378133231</td>\n",
       "      <td>68</td>\n",
       "    </tr>\n",
       "    <tr>\n",
       "      <th>1</th>\n",
       "      <td>3497509795</td>\n",
       "      <td>96</td>\n",
       "    </tr>\n",
       "    <tr>\n",
       "      <th>2</th>\n",
       "      <td>3690843087</td>\n",
       "      <td>47</td>\n",
       "    </tr>\n",
       "    <tr>\n",
       "      <th>3</th>\n",
       "      <td>3691775263</td>\n",
       "      <td>112</td>\n",
       "    </tr>\n",
       "    <tr>\n",
       "      <th>4</th>\n",
       "      <td>3691779379</td>\n",
       "      <td>80</td>\n",
       "    </tr>\n",
       "  </tbody>\n",
       "</table>\n",
       "</div>"
      ],
      "text/plain": [
       "       job_id  industry_id\n",
       "0  3378133231           68\n",
       "1  3497509795           96\n",
       "2  3690843087           47\n",
       "3  3691775263          112\n",
       "4  3691779379           80"
      ]
     },
     "execution_count": 190,
     "metadata": {},
     "output_type": "execute_result"
    }
   ],
   "source": [
    "job_ind.head()"
   ]
  },
  {
   "cell_type": "code",
   "execution_count": 191,
   "id": "24b40778",
   "metadata": {},
   "outputs": [
    {
     "name": "stdout",
     "output_type": "stream",
     "text": [
      "job_id has 0 zero values\n",
      "industry_id has 0 zero values\n"
     ]
    }
   ],
   "source": [
    "count_zeros_in_columns(job_ind)"
   ]
  },
  {
   "cell_type": "markdown",
   "id": "abcccb83",
   "metadata": {},
   "source": [
    "### Duplicates check"
   ]
  },
  {
   "cell_type": "code",
   "execution_count": 192,
   "id": "c75a27d0",
   "metadata": {},
   "outputs": [],
   "source": [
    "job_ind = job_ind.drop_duplicates()"
   ]
  },
  {
   "cell_type": "code",
   "execution_count": 193,
   "id": "d5804a56",
   "metadata": {},
   "outputs": [
    {
     "data": {
      "text/plain": [
       "job_id          6033\n",
       "industry_id    21791\n",
       "dtype: int64"
      ]
     },
     "execution_count": 193,
     "metadata": {},
     "output_type": "execute_result"
    }
   ],
   "source": [
    "count_duplicates_per_column(job_ind)"
   ]
  },
  {
   "cell_type": "code",
   "execution_count": 194,
   "id": "0caa5612",
   "metadata": {},
   "outputs": [
    {
     "data": {
      "text/plain": [
       "(21993, 2)"
      ]
     },
     "execution_count": 194,
     "metadata": {},
     "output_type": "execute_result"
    }
   ],
   "source": [
    "job_ind.shape"
   ]
  },
  {
   "cell_type": "markdown",
   "id": "f50b8cbc",
   "metadata": {},
   "source": [
    "# benefits"
   ]
  },
  {
   "cell_type": "code",
   "execution_count": 195,
   "id": "ec49105d",
   "metadata": {},
   "outputs": [
    {
     "data": {
      "text/html": [
       "<div>\n",
       "<style scoped>\n",
       "    .dataframe tbody tr th:only-of-type {\n",
       "        vertical-align: middle;\n",
       "    }\n",
       "\n",
       "    .dataframe tbody tr th {\n",
       "        vertical-align: top;\n",
       "    }\n",
       "\n",
       "    .dataframe thead th {\n",
       "        text-align: right;\n",
       "    }\n",
       "</style>\n",
       "<table border=\"1\" class=\"dataframe\">\n",
       "  <thead>\n",
       "    <tr style=\"text-align: right;\">\n",
       "      <th></th>\n",
       "      <th>job_id</th>\n",
       "      <th>inferred</th>\n",
       "      <th>type</th>\n",
       "    </tr>\n",
       "  </thead>\n",
       "  <tbody>\n",
       "    <tr>\n",
       "      <th>0</th>\n",
       "      <td>3690843087</td>\n",
       "      <td>0</td>\n",
       "      <td>Medical insurance</td>\n",
       "    </tr>\n",
       "    <tr>\n",
       "      <th>1</th>\n",
       "      <td>3690843087</td>\n",
       "      <td>0</td>\n",
       "      <td>Dental insurance</td>\n",
       "    </tr>\n",
       "    <tr>\n",
       "      <th>2</th>\n",
       "      <td>3690843087</td>\n",
       "      <td>0</td>\n",
       "      <td>401(k)</td>\n",
       "    </tr>\n",
       "    <tr>\n",
       "      <th>3</th>\n",
       "      <td>3690843087</td>\n",
       "      <td>0</td>\n",
       "      <td>Paid maternity leave</td>\n",
       "    </tr>\n",
       "    <tr>\n",
       "      <th>4</th>\n",
       "      <td>3690843087</td>\n",
       "      <td>0</td>\n",
       "      <td>Disability insurance</td>\n",
       "    </tr>\n",
       "  </tbody>\n",
       "</table>\n",
       "</div>"
      ],
      "text/plain": [
       "       job_id  inferred                  type\n",
       "0  3690843087         0     Medical insurance\n",
       "1  3690843087         0      Dental insurance\n",
       "2  3690843087         0                401(k)\n",
       "3  3690843087         0  Paid maternity leave\n",
       "4  3690843087         0  Disability insurance"
      ]
     },
     "execution_count": 195,
     "metadata": {},
     "output_type": "execute_result"
    }
   ],
   "source": [
    "benefits.head()"
   ]
  },
  {
   "cell_type": "code",
   "execution_count": 196,
   "id": "3dcb7ee8",
   "metadata": {},
   "outputs": [
    {
     "name": "stdout",
     "output_type": "stream",
     "text": [
      "job_id has 0 zero values\n",
      "inferred has 7151 zero values\n",
      "type has 0 zero values\n"
     ]
    }
   ],
   "source": [
    "count_zeros_in_columns(benefits)"
   ]
  },
  {
   "cell_type": "markdown",
   "id": "ac4aa3eb",
   "metadata": {},
   "source": [
    "### inferred column can be zero - no change required"
   ]
  },
  {
   "cell_type": "markdown",
   "id": "77b2ba1c",
   "metadata": {},
   "source": [
    "### Duplicates check"
   ]
  },
  {
   "cell_type": "code",
   "execution_count": 197,
   "id": "519d953c",
   "metadata": {},
   "outputs": [],
   "source": [
    "benefits = benefits.drop_duplicates()"
   ]
  },
  {
   "cell_type": "code",
   "execution_count": 198,
   "id": "e57406a1",
   "metadata": {},
   "outputs": [
    {
     "data": {
      "text/plain": [
       "job_id       8265\n",
       "inferred    13759\n",
       "type        13749\n",
       "dtype: int64"
      ]
     },
     "execution_count": 198,
     "metadata": {},
     "output_type": "execute_result"
    }
   ],
   "source": [
    "count_duplicates_per_column(benefits)"
   ]
  },
  {
   "cell_type": "code",
   "execution_count": 199,
   "id": "f8771f19",
   "metadata": {},
   "outputs": [
    {
     "data": {
      "text/plain": [
       "(13761, 3)"
      ]
     },
     "execution_count": 199,
     "metadata": {},
     "output_type": "execute_result"
    }
   ],
   "source": [
    "benefits.shape"
   ]
  },
  {
   "cell_type": "markdown",
   "id": "99ed5dfd",
   "metadata": {},
   "source": [
    "#### Cleaning non-ASCII values from type column"
   ]
  },
  {
   "cell_type": "code",
   "execution_count": 200,
   "id": "6487c46e",
   "metadata": {},
   "outputs": [
    {
     "name": "stdout",
     "output_type": "stream",
     "text": [
      "0        Medical insurance\n",
      "1         Dental insurance\n",
      "2                     401k\n",
      "3     Paid maternity leave\n",
      "4     Disability insurance\n",
      "5         Vision insurance\n",
      "6         Dental insurance\n",
      "7     Disability insurance\n",
      "8                     401k\n",
      "9        Medical insurance\n",
      "10        Vision insurance\n",
      "11        Dental insurance\n",
      "12                    401k\n",
      "13      Tuition assistance\n",
      "14    Disability insurance\n",
      "15       Medical insurance\n",
      "16                    401k\n",
      "17            Pension plan\n",
      "18        Dental insurance\n",
      "19       Medical insurance\n",
      "Name: type, dtype: object\n"
     ]
    }
   ],
   "source": [
    "benefits = convert_object_columns_to_string(benefits)\n",
    "benefits['type'] = benefits.apply(lambda row: clean_non_ascii_new_line_string(row['type']), axis=1)\n",
    "print(benefits['type'].head(20))"
   ]
  },
  {
   "cell_type": "markdown",
   "id": "7ba561f1",
   "metadata": {},
   "source": [
    "# job posting dataset exploration"
   ]
  },
  {
   "cell_type": "code",
   "execution_count": 201,
   "id": "e90588ff",
   "metadata": {},
   "outputs": [
    {
     "data": {
      "text/html": [
       "<div>\n",
       "<style scoped>\n",
       "    .dataframe tbody tr th:only-of-type {\n",
       "        vertical-align: middle;\n",
       "    }\n",
       "\n",
       "    .dataframe tbody tr th {\n",
       "        vertical-align: top;\n",
       "    }\n",
       "\n",
       "    .dataframe thead th {\n",
       "        text-align: right;\n",
       "    }\n",
       "</style>\n",
       "<table border=\"1\" class=\"dataframe\">\n",
       "  <thead>\n",
       "    <tr style=\"text-align: right;\">\n",
       "      <th></th>\n",
       "      <th>job_id</th>\n",
       "      <th>company_id</th>\n",
       "      <th>title</th>\n",
       "      <th>description</th>\n",
       "      <th>max_salary</th>\n",
       "      <th>med_salary</th>\n",
       "      <th>min_salary</th>\n",
       "      <th>pay_period</th>\n",
       "      <th>formatted_work_type</th>\n",
       "      <th>location</th>\n",
       "      <th>...</th>\n",
       "      <th>expiry</th>\n",
       "      <th>closed_time</th>\n",
       "      <th>formatted_experience_level</th>\n",
       "      <th>skills_desc</th>\n",
       "      <th>listed_time</th>\n",
       "      <th>posting_domain</th>\n",
       "      <th>sponsored</th>\n",
       "      <th>work_type</th>\n",
       "      <th>currency</th>\n",
       "      <th>compensation_type</th>\n",
       "    </tr>\n",
       "  </thead>\n",
       "  <tbody>\n",
       "    <tr>\n",
       "      <th>0</th>\n",
       "      <td>85008768</td>\n",
       "      <td>NaN</td>\n",
       "      <td>Licensed Insurance Agent</td>\n",
       "      <td>While many industries were hurt by the last fe...</td>\n",
       "      <td>52000.0</td>\n",
       "      <td>NaN</td>\n",
       "      <td>45760.0</td>\n",
       "      <td>YEARLY</td>\n",
       "      <td>Full-time</td>\n",
       "      <td>Chico, CA</td>\n",
       "      <td>...</td>\n",
       "      <td>1.710000e+12</td>\n",
       "      <td>NaN</td>\n",
       "      <td>NaN</td>\n",
       "      <td>NaN</td>\n",
       "      <td>1.690000e+12</td>\n",
       "      <td>NaN</td>\n",
       "      <td>1</td>\n",
       "      <td>FULL_TIME</td>\n",
       "      <td>USD</td>\n",
       "      <td>BASE_SALARY</td>\n",
       "    </tr>\n",
       "    <tr>\n",
       "      <th>1</th>\n",
       "      <td>133114754</td>\n",
       "      <td>77766802.0</td>\n",
       "      <td>Sales Manager</td>\n",
       "      <td>Are you a dynamic and creative marketing profe...</td>\n",
       "      <td>NaN</td>\n",
       "      <td>NaN</td>\n",
       "      <td>NaN</td>\n",
       "      <td>NaN</td>\n",
       "      <td>Full-time</td>\n",
       "      <td>Santa Clarita, CA</td>\n",
       "      <td>...</td>\n",
       "      <td>1.700000e+12</td>\n",
       "      <td>NaN</td>\n",
       "      <td>NaN</td>\n",
       "      <td>NaN</td>\n",
       "      <td>1.690000e+12</td>\n",
       "      <td>NaN</td>\n",
       "      <td>0</td>\n",
       "      <td>FULL_TIME</td>\n",
       "      <td>NaN</td>\n",
       "      <td>NaN</td>\n",
       "    </tr>\n",
       "    <tr>\n",
       "      <th>2</th>\n",
       "      <td>133196985</td>\n",
       "      <td>1089558.0</td>\n",
       "      <td>Model Risk Auditor</td>\n",
       "      <td>Join Us as a Model Risk Auditor – Showcase You...</td>\n",
       "      <td>NaN</td>\n",
       "      <td>NaN</td>\n",
       "      <td>NaN</td>\n",
       "      <td>NaN</td>\n",
       "      <td>Contract</td>\n",
       "      <td>New York, NY</td>\n",
       "      <td>...</td>\n",
       "      <td>1.700000e+12</td>\n",
       "      <td>NaN</td>\n",
       "      <td>NaN</td>\n",
       "      <td>NaN</td>\n",
       "      <td>1.690000e+12</td>\n",
       "      <td>NaN</td>\n",
       "      <td>0</td>\n",
       "      <td>CONTRACT</td>\n",
       "      <td>NaN</td>\n",
       "      <td>NaN</td>\n",
       "    </tr>\n",
       "    <tr>\n",
       "      <th>3</th>\n",
       "      <td>381055942</td>\n",
       "      <td>96654609.0</td>\n",
       "      <td>Business Manager</td>\n",
       "      <td>Business ManagerFirst Baptist Church ForneyFor...</td>\n",
       "      <td>NaN</td>\n",
       "      <td>NaN</td>\n",
       "      <td>NaN</td>\n",
       "      <td>NaN</td>\n",
       "      <td>Full-time</td>\n",
       "      <td>Forney, TX</td>\n",
       "      <td>...</td>\n",
       "      <td>1.700000e+12</td>\n",
       "      <td>NaN</td>\n",
       "      <td>NaN</td>\n",
       "      <td>NaN</td>\n",
       "      <td>1.690000e+12</td>\n",
       "      <td>NaN</td>\n",
       "      <td>0</td>\n",
       "      <td>FULL_TIME</td>\n",
       "      <td>NaN</td>\n",
       "      <td>NaN</td>\n",
       "    </tr>\n",
       "    <tr>\n",
       "      <th>4</th>\n",
       "      <td>529257371</td>\n",
       "      <td>1244539.0</td>\n",
       "      <td>NY Studio Assistant</td>\n",
       "      <td>YOU COULD BE ONE OF THE MAGIC MAKERS\\nKen Fulk...</td>\n",
       "      <td>NaN</td>\n",
       "      <td>NaN</td>\n",
       "      <td>NaN</td>\n",
       "      <td>NaN</td>\n",
       "      <td>Full-time</td>\n",
       "      <td>New York, NY</td>\n",
       "      <td>...</td>\n",
       "      <td>1.710000e+12</td>\n",
       "      <td>NaN</td>\n",
       "      <td>NaN</td>\n",
       "      <td>NaN</td>\n",
       "      <td>1.690000e+12</td>\n",
       "      <td>NaN</td>\n",
       "      <td>1</td>\n",
       "      <td>FULL_TIME</td>\n",
       "      <td>NaN</td>\n",
       "      <td>NaN</td>\n",
       "    </tr>\n",
       "  </tbody>\n",
       "</table>\n",
       "<p>5 rows × 27 columns</p>\n",
       "</div>"
      ],
      "text/plain": [
       "      job_id  company_id                     title  \\\n",
       "0   85008768         NaN  Licensed Insurance Agent   \n",
       "1  133114754  77766802.0             Sales Manager   \n",
       "2  133196985   1089558.0        Model Risk Auditor   \n",
       "3  381055942  96654609.0          Business Manager   \n",
       "4  529257371   1244539.0       NY Studio Assistant   \n",
       "\n",
       "                                         description  max_salary  med_salary  \\\n",
       "0  While many industries were hurt by the last fe...     52000.0         NaN   \n",
       "1  Are you a dynamic and creative marketing profe...         NaN         NaN   \n",
       "2  Join Us as a Model Risk Auditor – Showcase You...         NaN         NaN   \n",
       "3  Business ManagerFirst Baptist Church ForneyFor...         NaN         NaN   \n",
       "4  YOU COULD BE ONE OF THE MAGIC MAKERS\\nKen Fulk...         NaN         NaN   \n",
       "\n",
       "   min_salary pay_period formatted_work_type           location  ...  \\\n",
       "0     45760.0     YEARLY           Full-time          Chico, CA  ...   \n",
       "1         NaN        NaN           Full-time  Santa Clarita, CA  ...   \n",
       "2         NaN        NaN            Contract       New York, NY  ...   \n",
       "3         NaN        NaN           Full-time         Forney, TX  ...   \n",
       "4         NaN        NaN           Full-time       New York, NY  ...   \n",
       "\n",
       "         expiry  closed_time  formatted_experience_level  skills_desc  \\\n",
       "0  1.710000e+12          NaN                         NaN          NaN   \n",
       "1  1.700000e+12          NaN                         NaN          NaN   \n",
       "2  1.700000e+12          NaN                         NaN          NaN   \n",
       "3  1.700000e+12          NaN                         NaN          NaN   \n",
       "4  1.710000e+12          NaN                         NaN          NaN   \n",
       "\n",
       "    listed_time posting_domain sponsored  work_type  currency  \\\n",
       "0  1.690000e+12            NaN         1  FULL_TIME       USD   \n",
       "1  1.690000e+12            NaN         0  FULL_TIME       NaN   \n",
       "2  1.690000e+12            NaN         0   CONTRACT       NaN   \n",
       "3  1.690000e+12            NaN         0  FULL_TIME       NaN   \n",
       "4  1.690000e+12            NaN         1  FULL_TIME       NaN   \n",
       "\n",
       "  compensation_type  \n",
       "0       BASE_SALARY  \n",
       "1               NaN  \n",
       "2               NaN  \n",
       "3               NaN  \n",
       "4               NaN  \n",
       "\n",
       "[5 rows x 27 columns]"
      ]
     },
     "execution_count": 201,
     "metadata": {},
     "output_type": "execute_result"
    }
   ],
   "source": [
    "job_post.head()"
   ]
  },
  {
   "cell_type": "code",
   "execution_count": 202,
   "id": "cf010bfb",
   "metadata": {},
   "outputs": [
    {
     "data": {
      "text/plain": [
       "(15886, 27)"
      ]
     },
     "execution_count": 202,
     "metadata": {},
     "output_type": "execute_result"
    }
   ],
   "source": [
    "job_post.shape"
   ]
  },
  {
   "cell_type": "markdown",
   "id": "835137e1",
   "metadata": {},
   "source": [
    "Null or blank company_id can't be used, hence dropping these values"
   ]
  },
  {
   "cell_type": "code",
   "execution_count": 203,
   "id": "7f2cd7b5",
   "metadata": {},
   "outputs": [],
   "source": [
    "job_post.dropna(subset=['company_id'], inplace=True)"
   ]
  },
  {
   "cell_type": "code",
   "execution_count": 204,
   "id": "82e88d76",
   "metadata": {},
   "outputs": [
    {
     "data": {
      "text/plain": [
       "(15520, 27)"
      ]
     },
     "execution_count": 204,
     "metadata": {},
     "output_type": "execute_result"
    }
   ],
   "source": [
    "job_post.shape"
   ]
  },
  {
   "cell_type": "markdown",
   "id": "4b4aa83c",
   "metadata": {},
   "source": [
    "We're losing 366 values due to removing NA - this is negligible and is an acceptable level of missing values being removed"
   ]
  },
  {
   "cell_type": "code",
   "execution_count": 205,
   "id": "cf19abf0",
   "metadata": {
    "scrolled": false
   },
   "outputs": [
    {
     "data": {
      "text/html": [
       "<div>\n",
       "<style scoped>\n",
       "    .dataframe tbody tr th:only-of-type {\n",
       "        vertical-align: middle;\n",
       "    }\n",
       "\n",
       "    .dataframe tbody tr th {\n",
       "        vertical-align: top;\n",
       "    }\n",
       "\n",
       "    .dataframe thead th {\n",
       "        text-align: right;\n",
       "    }\n",
       "</style>\n",
       "<table border=\"1\" class=\"dataframe\">\n",
       "  <thead>\n",
       "    <tr style=\"text-align: right;\">\n",
       "      <th></th>\n",
       "      <th>job_id</th>\n",
       "      <th>company_id</th>\n",
       "      <th>max_salary</th>\n",
       "      <th>med_salary</th>\n",
       "      <th>min_salary</th>\n",
       "      <th>applies</th>\n",
       "      <th>original_listed_time</th>\n",
       "      <th>remote_allowed</th>\n",
       "      <th>views</th>\n",
       "      <th>expiry</th>\n",
       "      <th>closed_time</th>\n",
       "      <th>listed_time</th>\n",
       "      <th>sponsored</th>\n",
       "    </tr>\n",
       "  </thead>\n",
       "  <tbody>\n",
       "    <tr>\n",
       "      <th>count</th>\n",
       "      <td>1.552000e+04</td>\n",
       "      <td>1.552000e+04</td>\n",
       "      <td>5.404000e+03</td>\n",
       "      <td>968.000000</td>\n",
       "      <td>5404.000000</td>\n",
       "      <td>8504.000000</td>\n",
       "      <td>1.552000e+04</td>\n",
       "      <td>2273.0</td>\n",
       "      <td>12819.000000</td>\n",
       "      <td>1.552000e+04</td>\n",
       "      <td>9.150000e+02</td>\n",
       "      <td>1.552000e+04</td>\n",
       "      <td>15520.000000</td>\n",
       "    </tr>\n",
       "    <tr>\n",
       "      <th>mean</th>\n",
       "      <td>3.692053e+09</td>\n",
       "      <td>1.084100e+07</td>\n",
       "      <td>8.875807e+04</td>\n",
       "      <td>41265.693957</td>\n",
       "      <td>62584.169637</td>\n",
       "      <td>23.040687</td>\n",
       "      <td>1.690000e+12</td>\n",
       "      <td>1.0</td>\n",
       "      <td>77.499337</td>\n",
       "      <td>1.700672e+12</td>\n",
       "      <td>1.690000e+12</td>\n",
       "      <td>1.690000e+12</td>\n",
       "      <td>0.290077</td>\n",
       "    </tr>\n",
       "    <tr>\n",
       "      <th>std</th>\n",
       "      <td>9.269728e+07</td>\n",
       "      <td>2.313688e+07</td>\n",
       "      <td>9.051285e+04</td>\n",
       "      <td>94155.023951</td>\n",
       "      <td>59171.266876</td>\n",
       "      <td>55.412227</td>\n",
       "      <td>0.000000e+00</td>\n",
       "      <td>0.0</td>\n",
       "      <td>168.773428</td>\n",
       "      <td>2.559816e+09</td>\n",
       "      <td>0.000000e+00</td>\n",
       "      <td>0.000000e+00</td>\n",
       "      <td>0.453812</td>\n",
       "    </tr>\n",
       "    <tr>\n",
       "      <th>min</th>\n",
       "      <td>1.331148e+08</td>\n",
       "      <td>1.009000e+03</td>\n",
       "      <td>1.000000e+01</td>\n",
       "      <td>10.000000</td>\n",
       "      <td>10.000000</td>\n",
       "      <td>1.000000</td>\n",
       "      <td>1.690000e+12</td>\n",
       "      <td>1.0</td>\n",
       "      <td>1.000000</td>\n",
       "      <td>1.690000e+12</td>\n",
       "      <td>1.690000e+12</td>\n",
       "      <td>1.690000e+12</td>\n",
       "      <td>0.000000</td>\n",
       "    </tr>\n",
       "    <tr>\n",
       "      <th>25%</th>\n",
       "      <td>3.693071e+09</td>\n",
       "      <td>1.301100e+04</td>\n",
       "      <td>4.872750e+01</td>\n",
       "      <td>18.000000</td>\n",
       "      <td>38.000000</td>\n",
       "      <td>2.000000</td>\n",
       "      <td>1.690000e+12</td>\n",
       "      <td>1.0</td>\n",
       "      <td>6.000000</td>\n",
       "      <td>1.700000e+12</td>\n",
       "      <td>1.690000e+12</td>\n",
       "      <td>1.690000e+12</td>\n",
       "      <td>0.000000</td>\n",
       "    </tr>\n",
       "    <tr>\n",
       "      <th>50%</th>\n",
       "      <td>3.697359e+09</td>\n",
       "      <td>2.777685e+05</td>\n",
       "      <td>8.312450e+04</td>\n",
       "      <td>25.840000</td>\n",
       "      <td>60300.000000</td>\n",
       "      <td>6.000000</td>\n",
       "      <td>1.690000e+12</td>\n",
       "      <td>1.0</td>\n",
       "      <td>26.000000</td>\n",
       "      <td>1.700000e+12</td>\n",
       "      <td>1.690000e+12</td>\n",
       "      <td>1.690000e+12</td>\n",
       "      <td>0.000000</td>\n",
       "    </tr>\n",
       "    <tr>\n",
       "      <th>75%</th>\n",
       "      <td>3.699413e+09</td>\n",
       "      <td>7.798499e+06</td>\n",
       "      <td>1.400000e+05</td>\n",
       "      <td>52000.000000</td>\n",
       "      <td>100000.000000</td>\n",
       "      <td>21.000000</td>\n",
       "      <td>1.690000e+12</td>\n",
       "      <td>1.0</td>\n",
       "      <td>79.000000</td>\n",
       "      <td>1.700000e+12</td>\n",
       "      <td>1.690000e+12</td>\n",
       "      <td>1.690000e+12</td>\n",
       "      <td>1.000000</td>\n",
       "    </tr>\n",
       "    <tr>\n",
       "      <th>max</th>\n",
       "      <td>3.701374e+09</td>\n",
       "      <td>9.856222e+07</td>\n",
       "      <td>1.300000e+06</td>\n",
       "      <td>998426.000000</td>\n",
       "      <td>800000.000000</td>\n",
       "      <td>1615.000000</td>\n",
       "      <td>1.690000e+12</td>\n",
       "      <td>1.0</td>\n",
       "      <td>5656.000000</td>\n",
       "      <td>1.710000e+12</td>\n",
       "      <td>1.690000e+12</td>\n",
       "      <td>1.690000e+12</td>\n",
       "      <td>1.000000</td>\n",
       "    </tr>\n",
       "  </tbody>\n",
       "</table>\n",
       "</div>"
      ],
      "text/plain": [
       "             job_id    company_id    max_salary     med_salary     min_salary  \\\n",
       "count  1.552000e+04  1.552000e+04  5.404000e+03     968.000000    5404.000000   \n",
       "mean   3.692053e+09  1.084100e+07  8.875807e+04   41265.693957   62584.169637   \n",
       "std    9.269728e+07  2.313688e+07  9.051285e+04   94155.023951   59171.266876   \n",
       "min    1.331148e+08  1.009000e+03  1.000000e+01      10.000000      10.000000   \n",
       "25%    3.693071e+09  1.301100e+04  4.872750e+01      18.000000      38.000000   \n",
       "50%    3.697359e+09  2.777685e+05  8.312450e+04      25.840000   60300.000000   \n",
       "75%    3.699413e+09  7.798499e+06  1.400000e+05   52000.000000  100000.000000   \n",
       "max    3.701374e+09  9.856222e+07  1.300000e+06  998426.000000  800000.000000   \n",
       "\n",
       "           applies  original_listed_time  remote_allowed         views  \\\n",
       "count  8504.000000          1.552000e+04          2273.0  12819.000000   \n",
       "mean     23.040687          1.690000e+12             1.0     77.499337   \n",
       "std      55.412227          0.000000e+00             0.0    168.773428   \n",
       "min       1.000000          1.690000e+12             1.0      1.000000   \n",
       "25%       2.000000          1.690000e+12             1.0      6.000000   \n",
       "50%       6.000000          1.690000e+12             1.0     26.000000   \n",
       "75%      21.000000          1.690000e+12             1.0     79.000000   \n",
       "max    1615.000000          1.690000e+12             1.0   5656.000000   \n",
       "\n",
       "             expiry   closed_time   listed_time     sponsored  \n",
       "count  1.552000e+04  9.150000e+02  1.552000e+04  15520.000000  \n",
       "mean   1.700672e+12  1.690000e+12  1.690000e+12      0.290077  \n",
       "std    2.559816e+09  0.000000e+00  0.000000e+00      0.453812  \n",
       "min    1.690000e+12  1.690000e+12  1.690000e+12      0.000000  \n",
       "25%    1.700000e+12  1.690000e+12  1.690000e+12      0.000000  \n",
       "50%    1.700000e+12  1.690000e+12  1.690000e+12      0.000000  \n",
       "75%    1.700000e+12  1.690000e+12  1.690000e+12      1.000000  \n",
       "max    1.710000e+12  1.690000e+12  1.690000e+12      1.000000  "
      ]
     },
     "execution_count": 205,
     "metadata": {},
     "output_type": "execute_result"
    }
   ],
   "source": [
    "job_post.describe()"
   ]
  },
  {
   "cell_type": "code",
   "execution_count": 206,
   "id": "2643825a",
   "metadata": {},
   "outputs": [
    {
     "name": "stdout",
     "output_type": "stream",
     "text": [
      "job_id\n",
      "company_id\n",
      "title\n",
      "description\n",
      "max_salary\n",
      "med_salary\n",
      "min_salary\n",
      "pay_period\n",
      "formatted_work_type\n",
      "location\n",
      "applies\n",
      "original_listed_time\n",
      "remote_allowed\n",
      "views\n",
      "job_posting_url\n",
      "application_url\n",
      "application_type\n",
      "expiry\n",
      "closed_time\n",
      "formatted_experience_level\n",
      "skills_desc\n",
      "listed_time\n",
      "posting_domain\n",
      "sponsored\n",
      "work_type\n",
      "currency\n",
      "compensation_type\n"
     ]
    },
    {
     "data": {
      "text/plain": [
       "job_id                          int64\n",
       "company_id                    float64\n",
       "title                          object\n",
       "description                    object\n",
       "max_salary                    float64\n",
       "med_salary                    float64\n",
       "min_salary                    float64\n",
       "pay_period                     object\n",
       "formatted_work_type            object\n",
       "location                       object\n",
       "applies                       float64\n",
       "original_listed_time          float64\n",
       "remote_allowed                float64\n",
       "views                         float64\n",
       "job_posting_url                object\n",
       "application_url                object\n",
       "application_type               object\n",
       "expiry                        float64\n",
       "closed_time                   float64\n",
       "formatted_experience_level     object\n",
       "skills_desc                    object\n",
       "listed_time                   float64\n",
       "posting_domain                 object\n",
       "sponsored                       int64\n",
       "work_type                      object\n",
       "currency                       object\n",
       "compensation_type              object\n",
       "dtype: object"
      ]
     },
     "execution_count": 206,
     "metadata": {},
     "output_type": "execute_result"
    }
   ],
   "source": [
    "for col in job_post.columns:\n",
    "    print(col)\n",
    "\n",
    "job_post.dtypes"
   ]
  },
  {
   "cell_type": "markdown",
   "id": "e8caf883",
   "metadata": {},
   "source": [
    "### Changing non-ASCII values to normal for all descriptive columns"
   ]
  },
  {
   "cell_type": "code",
   "execution_count": 207,
   "id": "0aa87f02",
   "metadata": {},
   "outputs": [],
   "source": [
    "job_post = convert_object_columns_to_string(job_post)\n",
    "job_post['title'] = job_post.apply(lambda row: clean_non_ascii_new_line_string(row['title']), axis=1)\n",
    "job_post['description'] = job_post.apply(lambda row: clean_non_ascii_new_line_string(row['description']), axis=1)\n",
    "job_post['formatted_work_type'] = job_post.apply(lambda row: clean_non_ascii_new_line_string(row['formatted_work_type']), axis=1)\n",
    "job_post['location'] = job_post.apply(lambda row: clean_non_ascii_new_line_string(row['location']), axis=1)\n",
    "job_post['skills_desc'] = job_post.apply(lambda row: clean_non_ascii_new_line_string(row['skills_desc']), axis=1)\n",
    "job_post['formatted_experience_level'] = job_post.apply(lambda row: clean_non_ascii_new_line_string(row['formatted_experience_level']), axis=1)\n",
    "job_post['posting_domain'] = job_post.apply(lambda row: clean_non_ascii_new_line_string(row['posting_domain']), axis=1)\n",
    "job_post['work_type'] = job_post.apply(lambda row: clean_non_ascii_new_line_string(row['work_type']), axis=1)\n",
    "job_post['currency'] = job_post.apply(lambda row: clean_non_ascii_new_line_string(row['currency']), axis=1)\n",
    "job_post['compensation_type'] = job_post.apply(lambda row: clean_non_ascii_new_line_string(row['compensation_type']), axis=1)\n",
    "#job_post['job_posting_url'] = job_post.apply(lambda row: clean_non_ascii_new_line_string(row['job_posting_url']), axis=1)\n",
    "#job_post['application_url'] = job_post.apply(lambda row: clean_non_ascii_new_line_string(row['application_url']), axis=1)\n",
    "job_post['application_type'] = job_post.apply(lambda row: clean_non_ascii_new_line_string(row['application_type']), axis=1)"
   ]
  },
  {
   "cell_type": "markdown",
   "id": "d49f9626",
   "metadata": {},
   "source": [
    "### Since different columns have different nuances, we will need to carefully choose how to impute"
   ]
  },
  {
   "cell_type": "markdown",
   "id": "10a546f4",
   "metadata": {},
   "source": [
    "Salary columns (min, median, max) - will not impute since not every company's job posting is obligated to have salary ranges"
   ]
  },
  {
   "cell_type": "markdown",
   "id": "a8903d1c",
   "metadata": {},
   "source": [
    "For all character columns, we will impute with 'Not Available' "
   ]
  },
  {
   "cell_type": "code",
   "execution_count": 208,
   "id": "eafe5920",
   "metadata": {},
   "outputs": [
    {
     "name": "stdout",
     "output_type": "stream",
     "text": [
      "Filling title with 'Not Available'\n",
      "Filling description with 'Not Available'\n",
      "Filling formatted_work_type with 'Not Available'\n",
      "Filling location with 'Not Available'\n",
      "Filling skills_desc with 'Not Available'\n",
      "Filling formatted_experience_level with 'Not Available'\n",
      "Filling posting_domain with 'Not Available'\n",
      "Filling work_type with 'Not Available'\n",
      "Filling currency with 'Not Available'\n",
      "Filling compensation_type with 'Not Available'\n",
      "Filling job_posting_url with 'Not Available'\n",
      "Filling application_url with 'Not Available'\n",
      "Filling application_type with 'Not Available'\n"
     ]
    },
    {
     "data": {
      "text/html": [
       "<div>\n",
       "<style scoped>\n",
       "    .dataframe tbody tr th:only-of-type {\n",
       "        vertical-align: middle;\n",
       "    }\n",
       "\n",
       "    .dataframe tbody tr th {\n",
       "        vertical-align: top;\n",
       "    }\n",
       "\n",
       "    .dataframe thead th {\n",
       "        text-align: right;\n",
       "    }\n",
       "</style>\n",
       "<table border=\"1\" class=\"dataframe\">\n",
       "  <thead>\n",
       "    <tr style=\"text-align: right;\">\n",
       "      <th></th>\n",
       "      <th>job_id</th>\n",
       "      <th>company_id</th>\n",
       "      <th>title</th>\n",
       "      <th>description</th>\n",
       "      <th>max_salary</th>\n",
       "      <th>med_salary</th>\n",
       "      <th>min_salary</th>\n",
       "      <th>pay_period</th>\n",
       "      <th>formatted_work_type</th>\n",
       "      <th>location</th>\n",
       "      <th>...</th>\n",
       "      <th>expiry</th>\n",
       "      <th>closed_time</th>\n",
       "      <th>formatted_experience_level</th>\n",
       "      <th>skills_desc</th>\n",
       "      <th>listed_time</th>\n",
       "      <th>posting_domain</th>\n",
       "      <th>sponsored</th>\n",
       "      <th>work_type</th>\n",
       "      <th>currency</th>\n",
       "      <th>compensation_type</th>\n",
       "    </tr>\n",
       "  </thead>\n",
       "  <tbody>\n",
       "    <tr>\n",
       "      <th>1</th>\n",
       "      <td>133114754</td>\n",
       "      <td>77766802.0</td>\n",
       "      <td>Sales Manager</td>\n",
       "      <td>Are you a dynamic and creative marketing profe...</td>\n",
       "      <td>NaN</td>\n",
       "      <td>NaN</td>\n",
       "      <td>NaN</td>\n",
       "      <td>nan</td>\n",
       "      <td>Fulltime</td>\n",
       "      <td>Santa Clarita CA</td>\n",
       "      <td>...</td>\n",
       "      <td>1.700000e+12</td>\n",
       "      <td>NaN</td>\n",
       "      <td>nan</td>\n",
       "      <td>nan</td>\n",
       "      <td>1.690000e+12</td>\n",
       "      <td>nan</td>\n",
       "      <td>0</td>\n",
       "      <td>FULL_TIME</td>\n",
       "      <td>nan</td>\n",
       "      <td>nan</td>\n",
       "    </tr>\n",
       "    <tr>\n",
       "      <th>2</th>\n",
       "      <td>133196985</td>\n",
       "      <td>1089558.0</td>\n",
       "      <td>Model Risk Auditor</td>\n",
       "      <td>Join Us as a Model Risk Auditor  Showcase Your...</td>\n",
       "      <td>NaN</td>\n",
       "      <td>NaN</td>\n",
       "      <td>NaN</td>\n",
       "      <td>nan</td>\n",
       "      <td>Contract</td>\n",
       "      <td>New York NY</td>\n",
       "      <td>...</td>\n",
       "      <td>1.700000e+12</td>\n",
       "      <td>NaN</td>\n",
       "      <td>nan</td>\n",
       "      <td>nan</td>\n",
       "      <td>1.690000e+12</td>\n",
       "      <td>nan</td>\n",
       "      <td>0</td>\n",
       "      <td>CONTRACT</td>\n",
       "      <td>nan</td>\n",
       "      <td>nan</td>\n",
       "    </tr>\n",
       "    <tr>\n",
       "      <th>3</th>\n",
       "      <td>381055942</td>\n",
       "      <td>96654609.0</td>\n",
       "      <td>Business Manager</td>\n",
       "      <td>Business ManagerFirst Baptist Church ForneyFor...</td>\n",
       "      <td>NaN</td>\n",
       "      <td>NaN</td>\n",
       "      <td>NaN</td>\n",
       "      <td>nan</td>\n",
       "      <td>Fulltime</td>\n",
       "      <td>Forney TX</td>\n",
       "      <td>...</td>\n",
       "      <td>1.700000e+12</td>\n",
       "      <td>NaN</td>\n",
       "      <td>nan</td>\n",
       "      <td>nan</td>\n",
       "      <td>1.690000e+12</td>\n",
       "      <td>nan</td>\n",
       "      <td>0</td>\n",
       "      <td>FULL_TIME</td>\n",
       "      <td>nan</td>\n",
       "      <td>nan</td>\n",
       "    </tr>\n",
       "    <tr>\n",
       "      <th>4</th>\n",
       "      <td>529257371</td>\n",
       "      <td>1244539.0</td>\n",
       "      <td>NY Studio Assistant</td>\n",
       "      <td>YOU COULD BE ONE OF THE MAGIC MAKERS\\nKen Fulk...</td>\n",
       "      <td>NaN</td>\n",
       "      <td>NaN</td>\n",
       "      <td>NaN</td>\n",
       "      <td>nan</td>\n",
       "      <td>Fulltime</td>\n",
       "      <td>New York NY</td>\n",
       "      <td>...</td>\n",
       "      <td>1.710000e+12</td>\n",
       "      <td>NaN</td>\n",
       "      <td>nan</td>\n",
       "      <td>nan</td>\n",
       "      <td>1.690000e+12</td>\n",
       "      <td>nan</td>\n",
       "      <td>1</td>\n",
       "      <td>FULL_TIME</td>\n",
       "      <td>nan</td>\n",
       "      <td>nan</td>\n",
       "    </tr>\n",
       "    <tr>\n",
       "      <th>5</th>\n",
       "      <td>903408693</td>\n",
       "      <td>3894635.0</td>\n",
       "      <td>Office Associate</td>\n",
       "      <td>Provide clerical and administrative support to...</td>\n",
       "      <td>42000.0</td>\n",
       "      <td>NaN</td>\n",
       "      <td>37000.0</td>\n",
       "      <td>YEARLY</td>\n",
       "      <td>Fulltime</td>\n",
       "      <td>Albany GA</td>\n",
       "      <td>...</td>\n",
       "      <td>1.710000e+12</td>\n",
       "      <td>NaN</td>\n",
       "      <td>nan</td>\n",
       "      <td>nan</td>\n",
       "      <td>1.690000e+12</td>\n",
       "      <td>nan</td>\n",
       "      <td>1</td>\n",
       "      <td>FULL_TIME</td>\n",
       "      <td>USD</td>\n",
       "      <td>BASE_SALARY</td>\n",
       "    </tr>\n",
       "    <tr>\n",
       "      <th>...</th>\n",
       "      <td>...</td>\n",
       "      <td>...</td>\n",
       "      <td>...</td>\n",
       "      <td>...</td>\n",
       "      <td>...</td>\n",
       "      <td>...</td>\n",
       "      <td>...</td>\n",
       "      <td>...</td>\n",
       "      <td>...</td>\n",
       "      <td>...</td>\n",
       "      <td>...</td>\n",
       "      <td>...</td>\n",
       "      <td>...</td>\n",
       "      <td>...</td>\n",
       "      <td>...</td>\n",
       "      <td>...</td>\n",
       "      <td>...</td>\n",
       "      <td>...</td>\n",
       "      <td>...</td>\n",
       "      <td>...</td>\n",
       "      <td>...</td>\n",
       "    </tr>\n",
       "    <tr>\n",
       "      <th>15881</th>\n",
       "      <td>3701373516</td>\n",
       "      <td>74718032.0</td>\n",
       "      <td>Sanitation Technician</td>\n",
       "      <td>Location\\n\\nWest Columbia SC US 29172\\n\\n29172...</td>\n",
       "      <td>NaN</td>\n",
       "      <td>NaN</td>\n",
       "      <td>NaN</td>\n",
       "      <td>nan</td>\n",
       "      <td>Parttime</td>\n",
       "      <td>West Columbia SC</td>\n",
       "      <td>...</td>\n",
       "      <td>1.700000e+12</td>\n",
       "      <td>NaN</td>\n",
       "      <td>Entry level</td>\n",
       "      <td>nan</td>\n",
       "      <td>1.690000e+12</td>\n",
       "      <td>aspirebakeriescareerscom</td>\n",
       "      <td>0</td>\n",
       "      <td>PART_TIME</td>\n",
       "      <td>nan</td>\n",
       "      <td>nan</td>\n",
       "    </tr>\n",
       "    <tr>\n",
       "      <th>15882</th>\n",
       "      <td>3701373522</td>\n",
       "      <td>38897.0</td>\n",
       "      <td>Unit Secretary</td>\n",
       "      <td>Job Title Unit Secretary\\nDepartment Nursing\\n...</td>\n",
       "      <td>NaN</td>\n",
       "      <td>NaN</td>\n",
       "      <td>NaN</td>\n",
       "      <td>nan</td>\n",
       "      <td>Fulltime</td>\n",
       "      <td>Teaneck NJ</td>\n",
       "      <td>...</td>\n",
       "      <td>1.700000e+12</td>\n",
       "      <td>NaN</td>\n",
       "      <td>Entry level</td>\n",
       "      <td>nan</td>\n",
       "      <td>1.690000e+12</td>\n",
       "      <td>recruitingultiprocom</td>\n",
       "      <td>0</td>\n",
       "      <td>FULL_TIME</td>\n",
       "      <td>nan</td>\n",
       "      <td>nan</td>\n",
       "    </tr>\n",
       "    <tr>\n",
       "      <th>15883</th>\n",
       "      <td>3701373523</td>\n",
       "      <td>38897.0</td>\n",
       "      <td>Radiology Aide Perdiem</td>\n",
       "      <td>Job Title Radiology Aide Perdiem\\nDepartment C...</td>\n",
       "      <td>NaN</td>\n",
       "      <td>NaN</td>\n",
       "      <td>NaN</td>\n",
       "      <td>nan</td>\n",
       "      <td>Parttime</td>\n",
       "      <td>Teaneck NJ</td>\n",
       "      <td>...</td>\n",
       "      <td>1.700000e+12</td>\n",
       "      <td>NaN</td>\n",
       "      <td>Entry level</td>\n",
       "      <td>nan</td>\n",
       "      <td>1.690000e+12</td>\n",
       "      <td>recruitingultiprocom</td>\n",
       "      <td>0</td>\n",
       "      <td>PART_TIME</td>\n",
       "      <td>nan</td>\n",
       "      <td>nan</td>\n",
       "    </tr>\n",
       "    <tr>\n",
       "      <th>15884</th>\n",
       "      <td>3701373524</td>\n",
       "      <td>2623.0</td>\n",
       "      <td>MRI Manager</td>\n",
       "      <td>Grade 105\\nJob Type Officer of AdministrationB...</td>\n",
       "      <td>135000.0</td>\n",
       "      <td>NaN</td>\n",
       "      <td>110000.0</td>\n",
       "      <td>YEARLY</td>\n",
       "      <td>Fulltime</td>\n",
       "      <td>New York NY</td>\n",
       "      <td>...</td>\n",
       "      <td>1.700000e+12</td>\n",
       "      <td>NaN</td>\n",
       "      <td>MidSenior level</td>\n",
       "      <td>nan</td>\n",
       "      <td>1.690000e+12</td>\n",
       "      <td>opportunitiescolumbiaedu</td>\n",
       "      <td>0</td>\n",
       "      <td>FULL_TIME</td>\n",
       "      <td>USD</td>\n",
       "      <td>BASE_SALARY</td>\n",
       "    </tr>\n",
       "    <tr>\n",
       "      <th>15885</th>\n",
       "      <td>3701373527</td>\n",
       "      <td>84659.0</td>\n",
       "      <td>Area Director of Business Development</td>\n",
       "      <td>Nexion Health Management affiliates operate 56...</td>\n",
       "      <td>NaN</td>\n",
       "      <td>NaN</td>\n",
       "      <td>NaN</td>\n",
       "      <td>nan</td>\n",
       "      <td>Fulltime</td>\n",
       "      <td>Vicksburg MS</td>\n",
       "      <td>...</td>\n",
       "      <td>1.700000e+12</td>\n",
       "      <td>NaN</td>\n",
       "      <td>nan</td>\n",
       "      <td>nan</td>\n",
       "      <td>1.690000e+12</td>\n",
       "      <td>nan</td>\n",
       "      <td>0</td>\n",
       "      <td>FULL_TIME</td>\n",
       "      <td>nan</td>\n",
       "      <td>nan</td>\n",
       "    </tr>\n",
       "  </tbody>\n",
       "</table>\n",
       "<p>15520 rows × 27 columns</p>\n",
       "</div>"
      ],
      "text/plain": [
       "           job_id  company_id                                  title  \\\n",
       "1       133114754  77766802.0                          Sales Manager   \n",
       "2       133196985   1089558.0                     Model Risk Auditor   \n",
       "3       381055942  96654609.0                       Business Manager   \n",
       "4       529257371   1244539.0                    NY Studio Assistant   \n",
       "5       903408693   3894635.0                       Office Associate   \n",
       "...           ...         ...                                    ...   \n",
       "15881  3701373516  74718032.0                  Sanitation Technician   \n",
       "15882  3701373522     38897.0                         Unit Secretary   \n",
       "15883  3701373523     38897.0                 Radiology Aide Perdiem   \n",
       "15884  3701373524      2623.0                            MRI Manager   \n",
       "15885  3701373527     84659.0  Area Director of Business Development   \n",
       "\n",
       "                                             description  max_salary  \\\n",
       "1      Are you a dynamic and creative marketing profe...         NaN   \n",
       "2      Join Us as a Model Risk Auditor  Showcase Your...         NaN   \n",
       "3      Business ManagerFirst Baptist Church ForneyFor...         NaN   \n",
       "4      YOU COULD BE ONE OF THE MAGIC MAKERS\\nKen Fulk...         NaN   \n",
       "5      Provide clerical and administrative support to...     42000.0   \n",
       "...                                                  ...         ...   \n",
       "15881  Location\\n\\nWest Columbia SC US 29172\\n\\n29172...         NaN   \n",
       "15882  Job Title Unit Secretary\\nDepartment Nursing\\n...         NaN   \n",
       "15883  Job Title Radiology Aide Perdiem\\nDepartment C...         NaN   \n",
       "15884  Grade 105\\nJob Type Officer of AdministrationB...    135000.0   \n",
       "15885  Nexion Health Management affiliates operate 56...         NaN   \n",
       "\n",
       "       med_salary  min_salary pay_period formatted_work_type  \\\n",
       "1             NaN         NaN        nan            Fulltime   \n",
       "2             NaN         NaN        nan            Contract   \n",
       "3             NaN         NaN        nan            Fulltime   \n",
       "4             NaN         NaN        nan            Fulltime   \n",
       "5             NaN     37000.0     YEARLY            Fulltime   \n",
       "...           ...         ...        ...                 ...   \n",
       "15881         NaN         NaN        nan            Parttime   \n",
       "15882         NaN         NaN        nan            Fulltime   \n",
       "15883         NaN         NaN        nan            Parttime   \n",
       "15884         NaN    110000.0     YEARLY            Fulltime   \n",
       "15885         NaN         NaN        nan            Fulltime   \n",
       "\n",
       "               location  ...        expiry  closed_time  \\\n",
       "1      Santa Clarita CA  ...  1.700000e+12          NaN   \n",
       "2           New York NY  ...  1.700000e+12          NaN   \n",
       "3             Forney TX  ...  1.700000e+12          NaN   \n",
       "4           New York NY  ...  1.710000e+12          NaN   \n",
       "5             Albany GA  ...  1.710000e+12          NaN   \n",
       "...                 ...  ...           ...          ...   \n",
       "15881  West Columbia SC  ...  1.700000e+12          NaN   \n",
       "15882        Teaneck NJ  ...  1.700000e+12          NaN   \n",
       "15883        Teaneck NJ  ...  1.700000e+12          NaN   \n",
       "15884       New York NY  ...  1.700000e+12          NaN   \n",
       "15885      Vicksburg MS  ...  1.700000e+12          NaN   \n",
       "\n",
       "       formatted_experience_level  skills_desc   listed_time  \\\n",
       "1                             nan          nan  1.690000e+12   \n",
       "2                             nan          nan  1.690000e+12   \n",
       "3                             nan          nan  1.690000e+12   \n",
       "4                             nan          nan  1.690000e+12   \n",
       "5                             nan          nan  1.690000e+12   \n",
       "...                           ...          ...           ...   \n",
       "15881                 Entry level          nan  1.690000e+12   \n",
       "15882                 Entry level          nan  1.690000e+12   \n",
       "15883                 Entry level          nan  1.690000e+12   \n",
       "15884             MidSenior level          nan  1.690000e+12   \n",
       "15885                         nan          nan  1.690000e+12   \n",
       "\n",
       "                 posting_domain sponsored  work_type  currency  \\\n",
       "1                           nan         0  FULL_TIME       nan   \n",
       "2                           nan         0   CONTRACT       nan   \n",
       "3                           nan         0  FULL_TIME       nan   \n",
       "4                           nan         1  FULL_TIME       nan   \n",
       "5                           nan         1  FULL_TIME       USD   \n",
       "...                         ...       ...        ...       ...   \n",
       "15881  aspirebakeriescareerscom         0  PART_TIME       nan   \n",
       "15882      recruitingultiprocom         0  FULL_TIME       nan   \n",
       "15883      recruitingultiprocom         0  PART_TIME       nan   \n",
       "15884  opportunitiescolumbiaedu         0  FULL_TIME       USD   \n",
       "15885                       nan         0  FULL_TIME       nan   \n",
       "\n",
       "      compensation_type  \n",
       "1                   nan  \n",
       "2                   nan  \n",
       "3                   nan  \n",
       "4                   nan  \n",
       "5           BASE_SALARY  \n",
       "...                 ...  \n",
       "15881               nan  \n",
       "15882               nan  \n",
       "15883               nan  \n",
       "15884       BASE_SALARY  \n",
       "15885               nan  \n",
       "\n",
       "[15520 rows x 27 columns]"
      ]
     },
     "execution_count": 208,
     "metadata": {},
     "output_type": "execute_result"
    }
   ],
   "source": [
    "fill_null_values_column(job_post, 'title', 'na') \n",
    "fill_null_values_column(job_post, 'description', 'na')\n",
    "fill_null_values_column(job_post, 'formatted_work_type', 'na')\n",
    "fill_null_values_column(job_post, 'location', 'na')\n",
    "fill_null_values_column(job_post, 'skills_desc', 'na')\n",
    "fill_null_values_column(job_post, 'formatted_experience_level', 'na')\n",
    "fill_null_values_column(job_post, 'posting_domain', 'na')\n",
    "fill_null_values_column(job_post, 'work_type', 'na')\n",
    "fill_null_values_column(job_post, 'currency', 'na')\n",
    "fill_null_values_column(job_post, 'compensation_type', 'na')\n",
    "fill_null_values_column(job_post, 'job_posting_url', 'na')\n",
    "fill_null_values_column(job_post, 'application_url', 'na')\n",
    "fill_null_values_column(job_post, 'application_type', 'na')"
   ]
  },
  {
   "cell_type": "markdown",
   "id": "f5d773a2",
   "metadata": {},
   "source": [
    "#### Converting float64 timestamp format to date-time stamp"
   ]
  },
  {
   "cell_type": "code",
   "execution_count": 209,
   "id": "663a00be",
   "metadata": {},
   "outputs": [],
   "source": [
    "job_post['listed_time_ts'] = pd.to_datetime(job_post['listed_time'], unit='ms')\n",
    "job_post['expiry_ts'] = pd.to_datetime(job_post['expiry'], unit='ms')\n",
    "job_post['closed_time_ts'] = pd.to_datetime(job_post['closed_time'], unit='ms')"
   ]
  },
  {
   "cell_type": "markdown",
   "id": "30d0788e",
   "metadata": {},
   "source": [
    "#### Cleaning non-ASCII values from abbreviation column"
   ]
  },
  {
   "cell_type": "code",
   "execution_count": 210,
   "id": "3f63cf7f",
   "metadata": {},
   "outputs": [
    {
     "name": "stdout",
     "output_type": "stream",
     "text": [
      "job_id has 0 zero values\n",
      "company_id has 0 zero values\n",
      "title has 0 zero values\n",
      "description has 0 zero values\n",
      "max_salary has 0 zero values\n",
      "med_salary has 0 zero values\n",
      "min_salary has 0 zero values\n",
      "pay_period has 0 zero values\n",
      "formatted_work_type has 0 zero values\n",
      "location has 0 zero values\n",
      "applies has 0 zero values\n",
      "original_listed_time has 0 zero values\n",
      "remote_allowed has 0 zero values\n",
      "views has 0 zero values\n",
      "job_posting_url has 0 zero values\n",
      "application_url has 0 zero values\n",
      "application_type has 0 zero values\n",
      "expiry has 0 zero values\n",
      "closed_time has 0 zero values\n",
      "formatted_experience_level has 0 zero values\n",
      "skills_desc has 0 zero values\n",
      "listed_time has 0 zero values\n",
      "posting_domain has 0 zero values\n",
      "sponsored has 11018 zero values\n",
      "work_type has 0 zero values\n",
      "currency has 0 zero values\n",
      "compensation_type has 0 zero values\n",
      "listed_time_ts has 0 zero values\n",
      "expiry_ts has 0 zero values\n",
      "closed_time_ts has 0 zero values\n"
     ]
    }
   ],
   "source": [
    "count_zeros_in_columns(job_post)"
   ]
  },
  {
   "cell_type": "markdown",
   "id": "37a55c9b",
   "metadata": {},
   "source": [
    "### Duplicate"
   ]
  },
  {
   "cell_type": "code",
   "execution_count": 211,
   "id": "7682c69b",
   "metadata": {},
   "outputs": [],
   "source": [
    "job_post = job_post.drop_duplicates()"
   ]
  },
  {
   "cell_type": "code",
   "execution_count": 212,
   "id": "380ccc65",
   "metadata": {},
   "outputs": [
    {
     "data": {
      "text/plain": [
       "job_id                            0\n",
       "company_id                     9490\n",
       "title                          4792\n",
       "description                    2032\n",
       "max_salary                    14209\n",
       "med_salary                    15206\n",
       "min_salary                    14292\n",
       "pay_period                    15516\n",
       "formatted_work_type           15513\n",
       "location                      12562\n",
       "applies                       15235\n",
       "original_listed_time          15519\n",
       "remote_allowed                15518\n",
       "views                         14808\n",
       "job_posting_url                   0\n",
       "application_url                6634\n",
       "application_type              15517\n",
       "expiry                        15517\n",
       "closed_time                   15518\n",
       "formatted_experience_level    15513\n",
       "skills_desc                   15378\n",
       "listed_time                   15519\n",
       "posting_domain                14223\n",
       "sponsored                     15518\n",
       "work_type                     15513\n",
       "currency                      15518\n",
       "compensation_type             15518\n",
       "listed_time_ts                15519\n",
       "expiry_ts                     15517\n",
       "closed_time_ts                15518\n",
       "dtype: int64"
      ]
     },
     "execution_count": 212,
     "metadata": {},
     "output_type": "execute_result"
    }
   ],
   "source": [
    "count_duplicates_per_column(job_post)"
   ]
  },
  {
   "cell_type": "markdown",
   "id": "5ffd850f",
   "metadata": {},
   "source": [
    "job_id doesn't have any duplicates - this will serve as our primary key"
   ]
  },
  {
   "cell_type": "markdown",
   "id": "73474fa3",
   "metadata": {},
   "source": [
    "# Download the dataset"
   ]
  },
  {
   "cell_type": "code",
   "execution_count": 214,
   "id": "26afe02f",
   "metadata": {},
   "outputs": [],
   "source": [
    "export_csv_path = 'D:\\\\Veena\\\\SJSU-Classes\\\\Sem1\\\\DatabaseSystemsforAnalytics-225-24\\\\Lab1\\\\Output_files\\\\'\n",
    "\n",
    "emp_count.to_csv(export_csv_path+'employee_counts_clean.csv')\n",
    "comp_spec.to_csv(export_csv_path+'company_specialities_clean.csv')\n",
    "comp_ind.to_csv(export_csv_path+'company_industries_clean.csv')\n",
    "comp.to_csv(export_csv_path+'companies_clean.csv')\n",
    "job_skill.to_csv(export_csv_path+'job_skills_clean.csv')\n",
    "job_ind.to_csv(export_csv_path+'job_industries_clean.csv')\n",
    "benefits.to_csv(export_csv_path+'benefits_clean.csv')\n",
    "job_post.to_csv(export_csv_path+'job_postings_clean.csv')"
   ]
  },
  {
   "cell_type": "code",
   "execution_count": null,
   "id": "84246f68",
   "metadata": {},
   "outputs": [],
   "source": []
  }
 ],
 "metadata": {
  "kernelspec": {
   "display_name": "Python 3 (ipykernel)",
   "language": "python",
   "name": "python3"
  },
  "language_info": {
   "codemirror_mode": {
    "name": "ipython",
    "version": 3
   },
   "file_extension": ".py",
   "mimetype": "text/x-python",
   "name": "python",
   "nbconvert_exporter": "python",
   "pygments_lexer": "ipython3",
   "version": "3.10.9"
  }
 },
 "nbformat": 4,
 "nbformat_minor": 5
}
